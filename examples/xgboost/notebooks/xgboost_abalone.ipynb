{
 "cells": [
  {
   "cell_type": "markdown",
   "metadata": {},
   "source": [
    "# XGBoost for Regression in Tornasole\n",
    "This notebook will demonstrate the simplest kind of interactive analysis that can be run in Tornasole. It will focus on the predicting the age of abalone ([Abalone dataset](https://www.csie.ntu.edu.tw/~cjlin/libsvmtools/datasets/regression.html)) using [XGBoost](https://github.com/dmlc/xgboost) for regression.\n",
    "\n",
    "## Setup\n",
    "\n",
    "Some basic setup that's always helpful"
   ]
  },
  {
   "cell_type": "code",
   "execution_count": 1,
   "metadata": {},
   "outputs": [],
   "source": [
    "%load_ext autoreload\n",
    "%autoreload 2"
   ]
  },
  {
   "cell_type": "markdown",
   "metadata": {},
   "source": [
    "Make sure that you can run `xgboost`. You can install `xgboost` by doing\n",
    "```shell\n",
    "$ pip3 install xgboost\n",
    "```\n",
    "You'll probably have to restart this notebook after doing this.\n",
    "\n",
    "Let's import some basic libraries for ML"
   ]
  },
  {
   "cell_type": "code",
   "execution_count": 2,
   "metadata": {},
   "outputs": [],
   "source": [
    "import numpy as np\n",
    "import xgboost as xgb\n",
    "import matplotlib.pyplot as plt\n",
    "import seaborn as sns"
   ]
  },
  {
   "cell_type": "markdown",
   "metadata": {},
   "source": [
    "Let's copy the Tornasole libraries to this instance, this step has to be executed only once. \n",
    "Please make sure that the AWS account you are using can access the `tornasole-external-preview-use1` bucket.\n",
    "\n",
    "To do so you'll need the appropriate AWS credentials. There are several ways of doing this:\n",
    "- inject temporary credentials \n",
    "- if running on EC2, use [EC2 roles](https://docs.aws.amazon.com/IAM/latest/UserGuide/id_roles_use_switch-role-ec2.html) that can access all S3 buckets\n",
    "- (preferred) run this notebook on a [SageMaker notebook instance](https://docs.aws.amazon.com/sagemaker/latest/dg/nbi.html)\n",
    "\n",
    "The code below downloads the necessary `.whl` files and installs them in the current environment. Only run the first time!\n"
   ]
  },
  {
   "cell_type": "code",
   "execution_count": 3,
   "metadata": {},
   "outputs": [],
   "source": [
    "#WARNING - uncomment this code only if you haven't done this before\n",
    "#!aws s3 sync s3://tornasole-external-preview-use1/sdk/ts-binaries/tornasole_xgboost/py3/latest/ tornasole_xgboost/\n",
    "#!pip install tornasole_xgboost/tornasole-*\n",
    "\n",
    "# If you run into a version conflict with boto, run the following\n",
    "#!pip uninstall -y botocore boto3 aioboto3 aiobotocore && pip install botocore==1.12.91 boto3==1.9.91 aiobotocore==0.10.2 aioboto3==6.4.1"
   ]
  },
  {
   "cell_type": "markdown",
   "metadata": {},
   "source": [
    "## Fetching the dataset\n",
    "\n",
    "We use the [Abalone data](https://www.csie.ntu.edu.tw/~cjlin/libsvmtools/datasets/regression.html) originally from the [UCI data repository](https://archive.ics.uci.edu/ml/datasets/abalone). More details about the original dataset can be found [here](https://archive.ics.uci.edu/ml/machine-learning-databases/abalone/abalone.names). In the libsvm converted [version](https://www.csie.ntu.edu.tw/~cjlin/libsvmtools/datasets/regression.html), the nominal feature (Male/Female/Infant) has been converted into a real valued feature. Age of abalone is to be predicted from eight physical measurements."
   ]
  },
  {
   "cell_type": "code",
   "execution_count": 4,
   "metadata": {},
   "outputs": [
    {
     "name": "stdout",
     "output_type": "stream",
     "text": [
      "CPU times: user 28.5 ms, sys: 9.39 ms, total: 37.9 ms\n",
      "Wall time: 6.01 s\n"
     ]
    }
   ],
   "source": [
    "%%time\n",
    "import random\n",
    "import tempfile\n",
    "import urllib.request\n",
    "\n",
    "\n",
    "def load_abalone(train_split=0.8, seed=42):\n",
    "\n",
    "    if not (0 < train_split <= 1):\n",
    "        raise ValueError(\"'train_split' must be between 0 and 1.\")\n",
    "\n",
    "    url = \"https://www.csie.ntu.edu.tw/~cjlin/libsvmtools/datasets/regression/abalone\"\n",
    "\n",
    "    response = urllib.request.urlopen(url).read().decode(\"utf-8\")\n",
    "    lines = response.strip().split('\\n')\n",
    "    n = sum(1 for line in lines)\n",
    "    indices = list(range(n))\n",
    "    random.seed(seed)\n",
    "    random.shuffle(indices)\n",
    "    train_indices = set(indices[:int(n * 0.8)])\n",
    "\n",
    "    with tempfile.NamedTemporaryFile(mode='w', delete=False) as train_file:\n",
    "        with tempfile.NamedTemporaryFile(mode='w', delete=False) as valid_file:\n",
    "            for idx, line in enumerate(lines):\n",
    "                if idx in train_indices:\n",
    "                    train_file.write(line + '\\n')\n",
    "                else:\n",
    "                    valid_file.write(line + '\\n')\n",
    "\n",
    "    return train_file.name, valid_file.name\n",
    "\n",
    "train_file, validation_file = load_abalone()"
   ]
  },
  {
   "cell_type": "markdown",
   "metadata": {},
   "source": [
    "\n",
    "## Model Training\n",
    "\n",
    "At this point we have all the ingredients installed on our machine. We can now start training."
   ]
  },
  {
   "cell_type": "code",
   "execution_count": 5,
   "metadata": {},
   "outputs": [],
   "source": [
    "from tornasole import SaveConfig\n",
    "from tornasole.xgboost import TornasoleHook\n",
    "from tornasole.trials import LocalTrial"
   ]
  },
  {
   "cell_type": "markdown",
   "metadata": {},
   "source": [
    "We can change the logging level if appropriate "
   ]
  },
  {
   "cell_type": "code",
   "execution_count": 6,
   "metadata": {},
   "outputs": [],
   "source": [
    "#import logging\n",
    "#logging.getLogger(\"tornasole\").setLevel(logging.WARNING)"
   ]
  },
  {
   "cell_type": "markdown",
   "metadata": {},
   "source": [
    "Clean up from previous runs, we remove old data (warning - we assume that we have set `ts_output` as the directory into which we send data)"
   ]
  },
  {
   "cell_type": "code",
   "execution_count": 7,
   "metadata": {},
   "outputs": [],
   "source": [
    "!rm -rf ./ts_output/"
   ]
  },
  {
   "cell_type": "markdown",
   "metadata": {},
   "source": [
    "We load the datasets into [DMatrix](https://xgboost.readthedocs.io/en/latest/python/python_api.html#xgboost.DMatrix) objects and define some hyperparameters - it doesn't really matter what it is."
   ]
  },
  {
   "cell_type": "code",
   "execution_count": 8,
   "metadata": {},
   "outputs": [
    {
     "name": "stdout",
     "output_type": "stream",
     "text": [
      "[20:28:55] 3341x9 matrix with 26728 entries loaded from /var/folders/8f/_jkz_jm54y56k334j6vkhlr51s_6bx/T/tmps8ervlbn\n",
      "[20:28:55] 836x9 matrix with 6688 entries loaded from /var/folders/8f/_jkz_jm54y56k334j6vkhlr51s_6bx/T/tmprvihe8rx\n"
     ]
    }
   ],
   "source": [
    "dtrain = xgb.DMatrix(train_file)\n",
    "dval = xgb.DMatrix(validation_file)\n",
    "\n",
    "watchlist = [(dtrain, 'train'), (dval, 'validation')]\n",
    "\n",
    "params = {\n",
    "    \"max_depth\": 5,\n",
    "    \"eta\": 0.2,\n",
    "    \"gamma\": 4,\n",
    "    \"min_child_weight\": 6,\n",
    "    \"subsample\": 0.7,\n",
    "    \"silent\": 0,\n",
    "    \"objective\": \"reg:squarederror\",\n",
    "    \"eval_metric\": [\"rmse\", \"mae\"]\n",
    "}\n",
    "\n",
    "num_round = 100"
   ]
  },
  {
   "cell_type": "markdown",
   "metadata": {},
   "source": [
    "Importantly - we **add the Tornasole Hook**. This hook will be run at every iteration and will save selected performance metrics, feature importances, or [SHAP](https://github.com/slundberg/shap) values (in this case, all of them) to the desired directory (in this case, `'{base_loc}/{run_id}'`.\n",
    "\n",
    "`{base_loc}` can be either a path on a local file system (for instance, `./ts_output/`) or an S3 bucket/object (`s3://mybucket/myprefix/`).\n",
    "\n",
    "See the documentation for more details."
   ]
  },
  {
   "cell_type": "code",
   "execution_count": 9,
   "metadata": {},
   "outputs": [
    {
     "name": "stdout",
     "output_type": "stream",
     "text": [
      "[2019-09-04 20:28:55.303 38f9d36a2c42.ant.amazon.com:42958 INFO hook.py:86] Saving to ./ts_output\n"
     ]
    }
   ],
   "source": [
    "save_config = SaveConfig(save_interval=5)\n",
    "\n",
    "tornasole_hook = TornasoleHook(\n",
    "    out_dir=\"./ts_output\",\n",
    "    save_config=save_config,\n",
    "    shap_data=dtrain\n",
    ")"
   ]
  },
  {
   "cell_type": "markdown",
   "metadata": {},
   "source": [
    "At this point we are ready to train. We will train this simple model.\n",
    "\n",
    "Behind the scenes, the `TornasoleHook` is saving the data requested."
   ]
  },
  {
   "cell_type": "code",
   "execution_count": 10,
   "metadata": {},
   "outputs": [
    {
     "name": "stdout",
     "output_type": "stream",
     "text": [
      "[2019-09-04 20:28:55.359 38f9d36a2c42.ant.amazon.com:42958 INFO hook.py:182] Saved iteration 0.\n",
      "[0]\ttrain-rmse:8.12809\ttrain-mae:7.57979\tvalidation-rmse:7.9501\tvalidation-mae:7.42376\n",
      "[1]\ttrain-rmse:6.66075\ttrain-mae:6.0853\tvalidation-rmse:6.50774\tvalidation-mae:5.95214\n",
      "[2]\ttrain-rmse:5.49178\ttrain-mae:4.87746\tvalidation-rmse:5.35986\tvalidation-mae:4.76687\n",
      "[3]\ttrain-rmse:4.58214\ttrain-mae:3.91531\tvalidation-rmse:4.47214\tvalidation-mae:3.81942\n",
      "[4]\ttrain-rmse:3.87782\ttrain-mae:3.14893\tvalidation-rmse:3.79344\tvalidation-mae:3.07788\n",
      "[2019-09-04 20:28:55.438 38f9d36a2c42.ant.amazon.com:42958 INFO hook.py:182] Saved iteration 5.\n",
      "[5]\ttrain-rmse:3.35051\ttrain-mae:2.57049\tvalidation-rmse:3.28752\tvalidation-mae:2.51613\n",
      "[6]\ttrain-rmse:2.95214\ttrain-mae:2.14503\tvalidation-rmse:2.91198\tvalidation-mae:2.11696\n",
      "[7]\ttrain-rmse:2.66585\ttrain-mae:1.85231\tvalidation-rmse:2.63266\tvalidation-mae:1.83957\n",
      "[8]\ttrain-rmse:2.45031\ttrain-mae:1.65847\tvalidation-rmse:2.45043\tvalidation-mae:1.6836\n",
      "[9]\ttrain-rmse:2.29575\ttrain-mae:1.53516\tvalidation-rmse:2.30491\tvalidation-mae:1.57687\n",
      "[2019-09-04 20:28:55.698 38f9d36a2c42.ant.amazon.com:42958 INFO hook.py:182] Saved iteration 10.\n",
      "[10]\ttrain-rmse:2.18057\ttrain-mae:1.4608\tvalidation-rmse:2.21775\tvalidation-mae:1.51841\n",
      "[11]\ttrain-rmse:2.09701\ttrain-mae:1.41371\tvalidation-rmse:2.16059\tvalidation-mae:1.4858\n",
      "[12]\ttrain-rmse:2.04006\ttrain-mae:1.38316\tvalidation-rmse:2.12174\tvalidation-mae:1.46568\n",
      "[13]\ttrain-rmse:1.99211\ttrain-mae:1.35925\tvalidation-rmse:2.08493\tvalidation-mae:1.45008\n",
      "[14]\ttrain-rmse:1.96792\ttrain-mae:1.35184\tvalidation-rmse:2.06902\tvalidation-mae:1.44609\n",
      "[2019-09-04 20:28:55.906 38f9d36a2c42.ant.amazon.com:42958 INFO hook.py:182] Saved iteration 15.\n",
      "[15]\ttrain-rmse:1.94583\ttrain-mae:1.34568\tvalidation-rmse:2.05138\tvalidation-mae:1.44183\n",
      "[16]\ttrain-rmse:1.92788\ttrain-mae:1.34136\tvalidation-rmse:2.04385\tvalidation-mae:1.43984\n",
      "[17]\ttrain-rmse:1.91056\ttrain-mae:1.33725\tvalidation-rmse:2.03618\tvalidation-mae:1.43834\n",
      "[18]\ttrain-rmse:1.89749\ttrain-mae:1.33499\tvalidation-rmse:2.0322\tvalidation-mae:1.4393\n",
      "[19]\ttrain-rmse:1.88413\ttrain-mae:1.33075\tvalidation-rmse:2.03752\tvalidation-mae:1.44543\n",
      "[2019-09-04 20:28:56.163 38f9d36a2c42.ant.amazon.com:42958 INFO hook.py:182] Saved iteration 20.\n",
      "[20]\ttrain-rmse:1.87967\ttrain-mae:1.32948\tvalidation-rmse:2.03493\tvalidation-mae:1.44581\n",
      "[21]\ttrain-rmse:1.86798\ttrain-mae:1.32499\tvalidation-rmse:2.03925\tvalidation-mae:1.44907\n",
      "[22]\ttrain-rmse:1.8582\ttrain-mae:1.32131\tvalidation-rmse:2.03707\tvalidation-mae:1.44972\n",
      "[23]\ttrain-rmse:1.85303\ttrain-mae:1.31908\tvalidation-rmse:2.03875\tvalidation-mae:1.45157\n",
      "[24]\ttrain-rmse:1.84696\ttrain-mae:1.31813\tvalidation-rmse:2.04676\tvalidation-mae:1.45646\n",
      "[2019-09-04 20:28:56.518 38f9d36a2c42.ant.amazon.com:42958 INFO hook.py:182] Saved iteration 25.\n",
      "[25]\ttrain-rmse:1.83281\ttrain-mae:1.31091\tvalidation-rmse:2.04628\tvalidation-mae:1.45422\n",
      "[26]\ttrain-rmse:1.821\ttrain-mae:1.30427\tvalidation-rmse:2.04828\tvalidation-mae:1.45734\n",
      "[27]\ttrain-rmse:1.81488\ttrain-mae:1.30071\tvalidation-rmse:2.04599\tvalidation-mae:1.45618\n",
      "[28]\ttrain-rmse:1.8002\ttrain-mae:1.29268\tvalidation-rmse:2.05193\tvalidation-mae:1.4594\n",
      "[29]\ttrain-rmse:1.79308\ttrain-mae:1.29057\tvalidation-rmse:2.05075\tvalidation-mae:1.46388\n",
      "[2019-09-04 20:28:56.806 38f9d36a2c42.ant.amazon.com:42958 INFO hook.py:182] Saved iteration 30.\n",
      "[30]\ttrain-rmse:1.78557\ttrain-mae:1.28705\tvalidation-rmse:2.05292\tvalidation-mae:1.46461\n",
      "[31]\ttrain-rmse:1.77816\ttrain-mae:1.28089\tvalidation-rmse:2.05105\tvalidation-mae:1.46399\n",
      "[32]\ttrain-rmse:1.76314\ttrain-mae:1.27199\tvalidation-rmse:2.05361\tvalidation-mae:1.46855\n",
      "[33]\ttrain-rmse:1.75584\ttrain-mae:1.2695\tvalidation-rmse:2.04789\tvalidation-mae:1.4681\n",
      "[34]\ttrain-rmse:1.75165\ttrain-mae:1.26756\tvalidation-rmse:2.04984\tvalidation-mae:1.47014\n",
      "[2019-09-04 20:28:57.182 38f9d36a2c42.ant.amazon.com:42958 INFO hook.py:182] Saved iteration 35.\n",
      "[35]\ttrain-rmse:1.74615\ttrain-mae:1.26296\tvalidation-rmse:2.0479\tvalidation-mae:1.4715\n",
      "[36]\ttrain-rmse:1.73885\ttrain-mae:1.25856\tvalidation-rmse:2.04948\tvalidation-mae:1.4712\n",
      "[37]\ttrain-rmse:1.736\ttrain-mae:1.257\tvalidation-rmse:2.04992\tvalidation-mae:1.47051\n",
      "[38]\ttrain-rmse:1.73002\ttrain-mae:1.25165\tvalidation-rmse:2.05359\tvalidation-mae:1.47123\n",
      "[39]\ttrain-rmse:1.72742\ttrain-mae:1.25118\tvalidation-rmse:2.05419\tvalidation-mae:1.47141\n",
      "[2019-09-04 20:28:57.649 38f9d36a2c42.ant.amazon.com:42958 INFO hook.py:182] Saved iteration 40.\n",
      "[40]\ttrain-rmse:1.72441\ttrain-mae:1.2498\tvalidation-rmse:2.0541\tvalidation-mae:1.47108\n",
      "[41]\ttrain-rmse:1.71452\ttrain-mae:1.24448\tvalidation-rmse:2.05683\tvalidation-mae:1.47221\n",
      "[42]\ttrain-rmse:1.70619\ttrain-mae:1.23868\tvalidation-rmse:2.0529\tvalidation-mae:1.47012\n",
      "[43]\ttrain-rmse:1.6994\ttrain-mae:1.23462\tvalidation-rmse:2.05173\tvalidation-mae:1.4685\n",
      "[44]\ttrain-rmse:1.69531\ttrain-mae:1.2325\tvalidation-rmse:2.05062\tvalidation-mae:1.46729\n",
      "[2019-09-04 20:28:57.973 38f9d36a2c42.ant.amazon.com:42958 INFO hook.py:182] Saved iteration 45.\n",
      "[45]\ttrain-rmse:1.68994\ttrain-mae:1.22921\tvalidation-rmse:2.05038\tvalidation-mae:1.46773\n",
      "[46]\ttrain-rmse:1.68733\ttrain-mae:1.22771\tvalidation-rmse:2.04775\tvalidation-mae:1.46629\n",
      "[47]\ttrain-rmse:1.6745\ttrain-mae:1.22109\tvalidation-rmse:2.05052\tvalidation-mae:1.46931\n",
      "[48]\ttrain-rmse:1.6677\ttrain-mae:1.21652\tvalidation-rmse:2.05003\tvalidation-mae:1.46771\n",
      "[49]\ttrain-rmse:1.66666\ttrain-mae:1.21571\tvalidation-rmse:2.05055\tvalidation-mae:1.46835\n",
      "[2019-09-04 20:28:58.286 38f9d36a2c42.ant.amazon.com:42958 INFO hook.py:182] Saved iteration 50.\n",
      "[50]\ttrain-rmse:1.66069\ttrain-mae:1.21231\tvalidation-rmse:2.05735\tvalidation-mae:1.47412\n",
      "[51]\ttrain-rmse:1.65219\ttrain-mae:1.20659\tvalidation-rmse:2.05643\tvalidation-mae:1.47175\n",
      "[52]\ttrain-rmse:1.6502\ttrain-mae:1.20494\tvalidation-rmse:2.05467\tvalidation-mae:1.46944\n",
      "[53]\ttrain-rmse:1.64501\ttrain-mae:1.20097\tvalidation-rmse:2.0534\tvalidation-mae:1.46682\n",
      "[54]\ttrain-rmse:1.63611\ttrain-mae:1.1947\tvalidation-rmse:2.05339\tvalidation-mae:1.46562\n",
      "[2019-09-04 20:28:58.703 38f9d36a2c42.ant.amazon.com:42958 INFO hook.py:182] Saved iteration 55.\n",
      "[55]\ttrain-rmse:1.63324\ttrain-mae:1.19463\tvalidation-rmse:2.05613\tvalidation-mae:1.47189\n",
      "[56]\ttrain-rmse:1.62148\ttrain-mae:1.18714\tvalidation-rmse:2.05909\tvalidation-mae:1.47115\n",
      "[57]\ttrain-rmse:1.61668\ttrain-mae:1.18364\tvalidation-rmse:2.05695\tvalidation-mae:1.46885\n",
      "[58]\ttrain-rmse:1.6119\ttrain-mae:1.18027\tvalidation-rmse:2.05439\tvalidation-mae:1.46791\n",
      "[59]\ttrain-rmse:1.61104\ttrain-mae:1.1797\tvalidation-rmse:2.05469\tvalidation-mae:1.46735\n",
      "[2019-09-04 20:28:59.112 38f9d36a2c42.ant.amazon.com:42958 INFO hook.py:182] Saved iteration 60.\n",
      "[60]\ttrain-rmse:1.60972\ttrain-mae:1.17818\tvalidation-rmse:2.05268\tvalidation-mae:1.46727\n",
      "[61]\ttrain-rmse:1.60483\ttrain-mae:1.17471\tvalidation-rmse:2.05238\tvalidation-mae:1.46723\n",
      "[62]\ttrain-rmse:1.60038\ttrain-mae:1.17187\tvalidation-rmse:2.05876\tvalidation-mae:1.46983\n",
      "[63]\ttrain-rmse:1.58954\ttrain-mae:1.16512\tvalidation-rmse:2.05812\tvalidation-mae:1.46628\n",
      "[64]\ttrain-rmse:1.58059\ttrain-mae:1.16055\tvalidation-rmse:2.06236\tvalidation-mae:1.4686\n",
      "[2019-09-04 20:28:59.606 38f9d36a2c42.ant.amazon.com:42958 INFO hook.py:182] Saved iteration 65.\n",
      "[65]\ttrain-rmse:1.57333\ttrain-mae:1.15614\tvalidation-rmse:2.06741\tvalidation-mae:1.47281\n",
      "[66]\ttrain-rmse:1.57042\ttrain-mae:1.15445\tvalidation-rmse:2.06701\tvalidation-mae:1.47235\n",
      "[67]\ttrain-rmse:1.56843\ttrain-mae:1.15295\tvalidation-rmse:2.0663\tvalidation-mae:1.47219\n",
      "[68]\ttrain-rmse:1.56508\ttrain-mae:1.15063\tvalidation-rmse:2.06515\tvalidation-mae:1.47276\n",
      "[69]\ttrain-rmse:1.56182\ttrain-mae:1.14841\tvalidation-rmse:2.06628\tvalidation-mae:1.47551\n",
      "[2019-09-04 20:29:00.062 38f9d36a2c42.ant.amazon.com:42958 INFO hook.py:182] Saved iteration 70.\n",
      "[70]\ttrain-rmse:1.55922\ttrain-mae:1.14672\tvalidation-rmse:2.06947\tvalidation-mae:1.47674\n",
      "[71]\ttrain-rmse:1.55271\ttrain-mae:1.14336\tvalidation-rmse:2.07123\tvalidation-mae:1.4787\n",
      "[72]\ttrain-rmse:1.54876\ttrain-mae:1.14062\tvalidation-rmse:2.07051\tvalidation-mae:1.47639\n",
      "[73]\ttrain-rmse:1.54667\ttrain-mae:1.13933\tvalidation-rmse:2.075\tvalidation-mae:1.47814\n",
      "[74]\ttrain-rmse:1.54487\ttrain-mae:1.13787\tvalidation-rmse:2.07309\tvalidation-mae:1.47687\n",
      "[2019-09-04 20:29:00.610 38f9d36a2c42.ant.amazon.com:42958 INFO hook.py:182] Saved iteration 75.\n",
      "[75]\ttrain-rmse:1.53595\ttrain-mae:1.1307\tvalidation-rmse:2.07264\tvalidation-mae:1.47924\n"
     ]
    },
    {
     "name": "stdout",
     "output_type": "stream",
     "text": [
      "[76]\ttrain-rmse:1.53418\ttrain-mae:1.12846\tvalidation-rmse:2.07262\tvalidation-mae:1.47965\n",
      "[77]\ttrain-rmse:1.52683\ttrain-mae:1.12359\tvalidation-rmse:2.07258\tvalidation-mae:1.47693\n",
      "[78]\ttrain-rmse:1.52175\ttrain-mae:1.12025\tvalidation-rmse:2.0736\tvalidation-mae:1.47748\n",
      "[79]\ttrain-rmse:1.51673\ttrain-mae:1.11775\tvalidation-rmse:2.07555\tvalidation-mae:1.47927\n",
      "[2019-09-04 20:29:01.110 38f9d36a2c42.ant.amazon.com:42958 INFO hook.py:182] Saved iteration 80.\n",
      "[80]\ttrain-rmse:1.51552\ttrain-mae:1.11628\tvalidation-rmse:2.07579\tvalidation-mae:1.47937\n",
      "[81]\ttrain-rmse:1.51042\ttrain-mae:1.11335\tvalidation-rmse:2.07407\tvalidation-mae:1.47882\n",
      "[82]\ttrain-rmse:1.49888\ttrain-mae:1.10658\tvalidation-rmse:2.07054\tvalidation-mae:1.47881\n",
      "[83]\ttrain-rmse:1.48993\ttrain-mae:1.10055\tvalidation-rmse:2.07382\tvalidation-mae:1.48155\n",
      "[84]\ttrain-rmse:1.48741\ttrain-mae:1.09893\tvalidation-rmse:2.07477\tvalidation-mae:1.48274\n",
      "[2019-09-04 20:29:01.640 38f9d36a2c42.ant.amazon.com:42958 INFO hook.py:182] Saved iteration 85.\n",
      "[85]\ttrain-rmse:1.48121\ttrain-mae:1.09505\tvalidation-rmse:2.07463\tvalidation-mae:1.48405\n",
      "[86]\ttrain-rmse:1.47717\ttrain-mae:1.09075\tvalidation-rmse:2.07385\tvalidation-mae:1.48084\n",
      "[87]\ttrain-rmse:1.47266\ttrain-mae:1.08722\tvalidation-rmse:2.07319\tvalidation-mae:1.4827\n",
      "[88]\ttrain-rmse:1.46499\ttrain-mae:1.08129\tvalidation-rmse:2.07362\tvalidation-mae:1.4862\n",
      "[89]\ttrain-rmse:1.46304\ttrain-mae:1.08039\tvalidation-rmse:2.07298\tvalidation-mae:1.48554\n",
      "[2019-09-04 20:29:02.197 38f9d36a2c42.ant.amazon.com:42958 INFO hook.py:182] Saved iteration 90.\n",
      "[90]\ttrain-rmse:1.45968\ttrain-mae:1.07896\tvalidation-rmse:2.07361\tvalidation-mae:1.487\n",
      "[91]\ttrain-rmse:1.45246\ttrain-mae:1.07513\tvalidation-rmse:2.07227\tvalidation-mae:1.48551\n",
      "[92]\ttrain-rmse:1.44731\ttrain-mae:1.07157\tvalidation-rmse:2.07416\tvalidation-mae:1.48621\n",
      "[93]\ttrain-rmse:1.44069\ttrain-mae:1.06819\tvalidation-rmse:2.07838\tvalidation-mae:1.49\n",
      "[94]\ttrain-rmse:1.43273\ttrain-mae:1.06434\tvalidation-rmse:2.08272\tvalidation-mae:1.49347\n",
      "[2019-09-04 20:29:03.068 38f9d36a2c42.ant.amazon.com:42958 INFO hook.py:182] Saved iteration 95.\n",
      "[95]\ttrain-rmse:1.4278\ttrain-mae:1.06026\tvalidation-rmse:2.08366\tvalidation-mae:1.49517\n",
      "[96]\ttrain-rmse:1.42101\ttrain-mae:1.05588\tvalidation-rmse:2.0787\tvalidation-mae:1.49234\n",
      "[97]\ttrain-rmse:1.41775\ttrain-mae:1.05389\tvalidation-rmse:2.07722\tvalidation-mae:1.49251\n",
      "[98]\ttrain-rmse:1.41412\ttrain-mae:1.05038\tvalidation-rmse:2.07725\tvalidation-mae:1.49371\n",
      "[2019-09-04 20:29:03.090 38f9d36a2c42.ant.amazon.com:42958 INFO hook.py:182] Saved iteration 99.\n",
      "[99]\ttrain-rmse:1.40749\ttrain-mae:1.04556\tvalidation-rmse:2.07435\tvalidation-mae:1.49251\n"
     ]
    }
   ],
   "source": [
    "bst = xgb.train(\n",
    "    params=params,\n",
    "    dtrain=dtrain,\n",
    "    evals=watchlist,\n",
    "    num_boost_round=num_round,\n",
    "    callbacks=[tornasole_hook])"
   ]
  },
  {
   "cell_type": "markdown",
   "metadata": {},
   "source": [
    "## Data Analysis - Manual\n",
    "Now that we have trained the system we can analyze the data. Notice that this notebook focuses on after-the-fact analysis. Tornasole also provides a collection of tools to do automatic analysis as the training run is progressing, which will be covered in a different notebook.\n",
    "\n",
    "We import a basic analysis library, which defines a concept of `Trial`. A `Trial` is a single training run, which is depositing values in a local directory (`LocalTrial`) or S3 (`S3Trial`). In this case we are using a `LocalTrial` - if you wish, you can change the output from `./ts_output` to `s3://mybucket/myprefix` and use `S3Trial` instead of `LocalTrial`."
   ]
  },
  {
   "cell_type": "markdown",
   "metadata": {},
   "source": [
    "And we read the data"
   ]
  },
  {
   "cell_type": "code",
   "execution_count": 11,
   "metadata": {},
   "outputs": [
    {
     "name": "stdout",
     "output_type": "stream",
     "text": [
      "[2019-09-04 20:29:03.117 38f9d36a2c42.ant.amazon.com:42958 INFO local_trial.py:22] Loading trial myrun at path ./ts_output\n",
      "[2019-09-04 20:29:03.119 38f9d36a2c42.ant.amazon.com:42958 INFO local_trial.py:58] Loaded 3 collections\n"
     ]
    }
   ],
   "source": [
    "trial = LocalTrial(\"myrun\", \"./ts_output\")"
   ]
  },
  {
   "cell_type": "markdown",
   "metadata": {},
   "source": [
    "We can list all the tensors we know something about. Each one of these names is the name of a tensor - the name is a combination of the feature name (which, in these cases, is auto-assigned by XGBoost) and whether it's an evaluation metric, feature importance, or SHAP value."
   ]
  },
  {
   "cell_type": "code",
   "execution_count": 12,
   "metadata": {},
   "outputs": [
    {
     "name": "stdout",
     "output_type": "stream",
     "text": [
      "[2019-09-04 20:29:06.817 38f9d36a2c42.ant.amazon.com:42958 INFO trial.py:98] Training has ended, will try to do a final refresh in 5 sec\n",
      "[2019-09-04 20:29:11.839 38f9d36a2c42.ant.amazon.com:42958 INFO trial.py:103] Marked loaded all steps to True\n"
     ]
    },
    {
     "data": {
      "text/plain": [
       "['train-rmse',\n",
       " 'train-mae',\n",
       " 'validation-rmse',\n",
       " 'validation-mae',\n",
       " 'f8/feature_importance',\n",
       " 'f2/feature_importance',\n",
       " 'f6/feature_importance',\n",
       " 'f1/feature_importance',\n",
       " 'f4/feature_importance',\n",
       " 'f1/average_shap',\n",
       " 'f2/average_shap',\n",
       " 'f4/average_shap',\n",
       " 'f6/average_shap',\n",
       " 'f3/feature_importance',\n",
       " 'f5/feature_importance',\n",
       " 'f7/feature_importance',\n",
       " 'f3/average_shap',\n",
       " 'f7/average_shap',\n",
       " 'f5/average_shap']"
      ]
     },
     "execution_count": 12,
     "metadata": {},
     "output_type": "execute_result"
    }
   ],
   "source": [
    "trial.tensors()"
   ]
  },
  {
   "cell_type": "markdown",
   "metadata": {},
   "source": [
    "For each tensor we can ask for which steps we have data - in this case, every 5 steps"
   ]
  },
  {
   "cell_type": "code",
   "execution_count": 13,
   "metadata": {},
   "outputs": [
    {
     "data": {
      "text/plain": [
       "[0, 5, 10, 15, 20, 25, 30, 35, 40, 45, 50, 55, 60, 65, 70, 75, 80, 85, 90, 95]"
      ]
     },
     "execution_count": 13,
     "metadata": {},
     "output_type": "execute_result"
    }
   ],
   "source": [
    "trial.tensor(\"f8/feature_importance\").steps()"
   ]
  },
  {
   "cell_type": "markdown",
   "metadata": {},
   "source": [
    "We can obtain each tensor at each step as a `numpy` array"
   ]
  },
  {
   "cell_type": "code",
   "execution_count": 14,
   "metadata": {},
   "outputs": [
    {
     "data": {
      "text/plain": [
       "numpy.ndarray"
      ]
     },
     "execution_count": 14,
     "metadata": {},
     "output_type": "execute_result"
    }
   ],
   "source": [
    "type(trial.tensor(\"f8/feature_importance\").step(30).value)"
   ]
  },
  {
   "cell_type": "markdown",
   "metadata": {},
   "source": [
    "### Performance metrics\n",
    "\n",
    "We can also create a simple function that visualizes the training and validation errors\n",
    "as the training progresses.\n",
    "We expect each gradient to get smaller over time, as the system converges to a good solution.\n",
    "Now, remember that this is an interactive analysis - we are showing these tensors to give an idea of the data. \n",
    "\n",
    "Later on in this notebook we will run an automated analysis."
   ]
  },
  {
   "cell_type": "code",
   "execution_count": 15,
   "metadata": {},
   "outputs": [],
   "source": [
    "# Define a function that, for the given tensor name, walks through all \n",
    "# the iterations for which we have data and fetches the value.\n",
    "# Returns the set of steps and the values\n",
    "\n",
    "def get_data(trial, tname):\n",
    "    tensor = trial.tensor(tname)\n",
    "    steps = tensor.steps()\n",
    "    vals = [tensor.value(s) for s in steps]\n",
    "    return steps, vals"
   ]
  },
  {
   "cell_type": "code",
   "execution_count": 16,
   "metadata": {},
   "outputs": [
    {
     "data": {
      "image/png": "[encoded data removed]",
      "text/plain": [
       "<Figure size 432x288 with 1 Axes>"
      ]
     },
     "metadata": {
      "needs_background": "light"
     },
     "output_type": "display_data"
    }
   ],
   "source": [
    "metrics_to_plot = [\"train-rmse\", \"validation-rmse\"]\n",
    "for metric in metrics_to_plot:\n",
    "    steps, data = get_data(trial, metric)\n",
    "    plt.plot(steps, data, label=metric)\n",
    "plt.xlabel('Iteration')\n",
    "plt.ylabel('Root mean squred error')\n",
    "plt.legend()\n",
    "plt.show()"
   ]
  },
  {
   "cell_type": "markdown",
   "metadata": {},
   "source": [
    "### Feature importances\n",
    "\n",
    "We can also visualize the feature importances as determined by\n",
    "[xgboost.get_fscore()](https://xgboost.readthedocs.io/en/latest/python/python_api.html#xgboost.Booster.get_fscore).\n",
    "Note that feature importances with zero values are not included here\n",
    "(which means that those features were not used in any split condisitons)."
   ]
  },
  {
   "cell_type": "code",
   "execution_count": 17,
   "metadata": {},
   "outputs": [],
   "source": [
    "def plot_collections(trial, endswith, ylabel=''):\n",
    "    \n",
    "    plt.figure(\n",
    "        num=1, figsize=(8, 8), dpi=80,\n",
    "        facecolor='w', edgecolor='k')\n",
    "\n",
    "    features_to_plot = [\n",
    "        tname for tname in trial.tensors()\n",
    "        if tname.endswith(endswith)\n",
    "    ]\n",
    "\n",
    "    for feature in sorted(features_to_plot):\n",
    "        steps, data = get_data(trial, feature)\n",
    "        label = feature.replace(endswith, '')\n",
    "        plt.plot(steps, data, label=label)\n",
    "\n",
    "    plt.legend(bbox_to_anchor=(1.04,1), loc='upper left')\n",
    "    plt.xlabel('Iteration')\n",
    "    plt.ylabel(ylabel)\n",
    "    plt.show()"
   ]
  },
  {
   "cell_type": "code",
   "execution_count": 18,
   "metadata": {},
   "outputs": [
    {
     "data": {
      "image/png": "[encoded data removed]",
      "text/plain": [
       "<Figure size 640x640 with 1 Axes>"
      ]
     },
     "metadata": {},
     "output_type": "display_data"
    }
   ],
   "source": [
    "plot_collections(trial, \"/feature_importance\", \"Feature importance\")"
   ]
  },
  {
   "cell_type": "markdown",
   "metadata": {},
   "source": [
    "### SHAP\n",
    "\n",
    "[SHAP](https://github.com/slundberg/shap) (SHapley Additive exPlanations) is\n",
    "another approach to explain the output of machine learning models.\n",
    "SHAP values represent a feature's contribution to a change in the model output."
   ]
  },
  {
   "cell_type": "code",
   "execution_count": 19,
   "metadata": {},
   "outputs": [
    {
     "data": {
      "image/png": "[encoded data removed]",
      "text/plain": [
       "<Figure size 640x640 with 1 Axes>"
      ]
     },
     "metadata": {},
     "output_type": "display_data"
    }
   ],
   "source": [
    "plot_collections(trial, \"/average_shap\", \"SHAP values\")"
   ]
  },
  {
   "cell_type": "markdown",
   "metadata": {},
   "source": [
    "## Data Analysis - Automatic\n",
    "So far we have conducted a human analysis, but the real power of Tornasole comes from having automatic monitoring of training runs. To do so we will build a SageMaker-based system that monitors existing runs in real time. Data traces deposited in S3 are the exchange mechanism: \n",
    "- the training system deposits data into s3://mybucket/myrun/\n",
    "- the monitoring system watches and reads data from s3://mybucket/myrun/\n",
    "\n",
    "In this example we will simulate reading from that."
   ]
  },
  {
   "cell_type": "code",
   "execution_count": 20,
   "metadata": {},
   "outputs": [],
   "source": [
    "from tornasole.rules.generic import LossNotDecreasing\n",
    "from tornasole.rules.rule_invoker import invoke_rule"
   ]
  },
  {
   "cell_type": "code",
   "execution_count": 21,
   "metadata": {},
   "outputs": [
    {
     "name": "stdout",
     "output_type": "stream",
     "text": [
      "[2019-09-04 20:29:13.371 38f9d36a2c42.ant.amazon.com:42958 INFO loss_decrease.py:65] LossNotDecreasing rule created with num_steps: 5, diff_percent: 0.0, mode: GLOBAL, tensor_regex: , collection_names: metric\n",
      "[2019-09-04 20:29:13.372 38f9d36a2c42.ant.amazon.com:42958 INFO rule_invoker.py:76] Started execution of rule LossNotDecreasing at step 0\n",
      "[2019-09-04 20:29:13.376 38f9d36a2c42.ant.amazon.com:42958 INFO loss_decrease.py:180] 1 loss is not decreasing over the last 5 steps at step 20\n",
      "[2019-09-04 20:29:13.377 38f9d36a2c42.ant.amazon.com:42958 INFO loss_decrease.py:180] 2 losses are  not decreasing over the last 5 steps at step 25\n",
      "[2019-09-04 20:29:13.380 38f9d36a2c42.ant.amazon.com:42958 INFO loss_decrease.py:180] 2 losses are  not decreasing over the last 5 steps at step 30\n",
      "[2019-09-04 20:29:13.382 38f9d36a2c42.ant.amazon.com:42958 INFO loss_decrease.py:180] 1 loss is not decreasing over the last 5 steps at step 35\n",
      "[2019-09-04 20:29:13.384 38f9d36a2c42.ant.amazon.com:42958 INFO loss_decrease.py:180] 1 loss is not decreasing over the last 5 steps at step 40\n",
      "[2019-09-04 20:29:13.385 38f9d36a2c42.ant.amazon.com:42958 INFO loss_decrease.py:180] 2 losses are  not decreasing over the last 5 steps at step 50\n",
      "[2019-09-04 20:29:13.388 38f9d36a2c42.ant.amazon.com:42958 INFO loss_decrease.py:180] 2 losses are  not decreasing over the last 5 steps at step 65\n",
      "[2019-09-04 20:29:13.389 38f9d36a2c42.ant.amazon.com:42958 INFO loss_decrease.py:180] 2 losses are  not decreasing over the last 5 steps at step 70\n",
      "[2019-09-04 20:29:13.391 38f9d36a2c42.ant.amazon.com:42958 INFO loss_decrease.py:180] 2 losses are  not decreasing over the last 5 steps at step 75\n",
      "[2019-09-04 20:29:13.392 38f9d36a2c42.ant.amazon.com:42958 INFO loss_decrease.py:180] 2 losses are  not decreasing over the last 5 steps at step 80\n",
      "[2019-09-04 20:29:13.393 38f9d36a2c42.ant.amazon.com:42958 INFO loss_decrease.py:180] 1 loss is not decreasing over the last 5 steps at step 85\n",
      "[2019-09-04 20:29:13.395 38f9d36a2c42.ant.amazon.com:42958 INFO loss_decrease.py:180] 1 loss is not decreasing over the last 5 steps at step 90\n",
      "[2019-09-04 20:29:13.396 38f9d36a2c42.ant.amazon.com:42958 INFO rule_invoker.py:90] Ended execution of rule LossNotDecreasing at end_step 94\n"
     ]
    }
   ],
   "source": [
    "loss_not_decreasing = LossNotDecreasing(\n",
    "    trial,\n",
    "    use_losses_collection=False,\n",
    "    collection_names=\"metric\",\n",
    "    num_steps=5)\n",
    "invoke_rule(loss_not_decreasing, end_step=95)"
   ]
  },
  {
   "cell_type": "markdown",
   "metadata": {},
   "source": [
    "This concludes this notebook. For more information see the documentation at  \n",
    "- https://github.com/awslabs/tornasole_core\n"
   ]
  }
 ],
 "metadata": {
  "kernelspec": {
   "display_name": "Python 3",
   "language": "python",
   "name": "python3"
  },
  "language_info": {
   "codemirror_mode": {
    "name": "ipython",
    "version": 3
   },
   "file_extension": ".py",
   "mimetype": "text/x-python",
   "name": "python",
   "nbconvert_exporter": "python",
   "pygments_lexer": "ipython3",
   "version": "3.7.4"
  },
  "pycharm": {
   "stem_cell": {
    "cell_type": "raw",
    "metadata": {
     "collapsed": false
    },
    "source": []
   }
  }
 },
 "nbformat": 4,
 "nbformat_minor": 2
}
