{
 "cells": [
  {
   "cell_type": "markdown",
   "metadata": {},
   "source": [
    "# Debugging SageMaker Training Jobs with Tornasole - Custom Rules"
   ]
  },
  {
   "cell_type": "markdown",
   "metadata": {},
   "source": [
    "## Overview"
   ]
  },
  {
   "cell_type": "markdown",
   "metadata": {},
   "source": [
    "Tornasole is new capability in Amazon SageMaker designed to be a debugger for machine learning models. It lets you go beyond just looking at scalars like losses and accuracies during training and gives you full visibility into all tensors 'flowing through the graph' during training or inference.\n",
    "\n",
    "Using Tornasole is a two step process:\n",
    "\n",
    "### Saving tensors\n",
    "\n",
    "This library, intended to be used with Tornasole, helps you save tensors from a running TensorFlow job. It lets you collect the tensors you want at the frequency that you want, and save them for analysis.\n",
    "\n",
    "### Analysis\n",
    "\n",
    "The analysis of tensors saved requires the package tornasole_rules. Please refer to the documentation for the above package for more details about how to install and analyze. That said, we do provide a few example analysis commands below so as to provide an end to end flow. These require the tornasole_rules package to be installed.\n",
    "\n",
    "This example walks through an example which guides through installation of the required components for emitting tensors in a SageMaker training job and applying a custom rule over the tensors to monitor the live status of the job."
   ]
  },
  {
   "cell_type": "markdown",
   "metadata": {},
   "source": [
    "## Setup\n",
    "\n",
    "As a first step, we'll do the installation of required tools which will allow emission of tensors (saving tensors) and application of rules to analyze them"
   ]
  },
  {
   "cell_type": "code",
   "execution_count": 1,
   "metadata": {
    "scrolled": true
   },
   "outputs": [
    {
     "name": "stdout",
     "output_type": "stream",
     "text": [
      "download: s3://tornasole-external-preview-use1/frameworks/mxnet/api.md to frameworks/mxnet/api.md\n",
      "download: s3://tornasole-external-preview-use1/frameworks/mxnet/DeveloperGuide_MXNet.md to frameworks/mxnet/DeveloperGuide_MXNet.md\n",
      "download: s3://tornasole-external-preview-use1/frameworks/mxnet/examples/mnist_mxnet.py to frameworks/mxnet/examples/mnist_mxnet.py\n",
      "download: s3://tornasole-external-preview-use1/frameworks/mxnet/examples/mxnet.ipynb to frameworks/mxnet/examples/mxnet.ipynb\n",
      "download: s3://tornasole-external-preview-use1/frameworks/pytorch/api.md to frameworks/pytorch/api.md\n",
      "download: s3://tornasole-external-preview-use1/frameworks/tensorflow/examples/simple/simple.py to frameworks/tensorflow/examples/simple/simple.py\n",
      "download: s3://tornasole-external-preview-use1/frameworks/tensorflow/api.md to frameworks/tensorflow/api.md\n",
      "download: s3://tornasole-external-preview-use1/frameworks/pytorch/DeveloperGuide_PyTorch.md to frameworks/pytorch/DeveloperGuide_PyTorch.md\n",
      "download: s3://tornasole-external-preview-use1/rules/generic/exploding_tensor.py to rules/generic/exploding_tensor.py\n",
      "download: s3://tornasole-external-preview-use1/frameworks/rules/DeveloperGuide_Rules.md to frameworks/rules/DeveloperGuide_Rules.md\n",
      "download: s3://tornasole-external-preview-use1/rules/advanced/Tornasole With SageMaker - Bring Your Own Rule.ipynb to rules/advanced/Tornasole With SageMaker - Bring Your Own Rule.ipynb\n",
      "download: s3://tornasole-external-preview-use1/frameworks/tensorflow/DeveloperGuide_TF.md to frameworks/tensorflow/DeveloperGuide_TF.md\n",
      "download: s3://tornasole-external-preview-use1/rules/generic/all_zero.py to rules/generic/all_zero.py\n",
      "download: s3://tornasole-external-preview-use1/rules/generic/rule_invoker.py to rules/generic/rule_invoker.py\n",
      "download: s3://tornasole-external-preview-use1/rules/generic/rule.py to rules/generic/rule.py\n",
      "download: s3://tornasole-external-preview-use1/rules/generic/similar_across_runs.py to rules/generic/similar_across_runs.py\n",
      "download: s3://tornasole-external-preview-use1/rules/DeveloperGuide_Rules.md to rules/DeveloperGuide_Rules.md\n",
      "download: s3://tornasole-external-preview-use1/rules/generic/vanishing_grad.py to rules/generic/vanishing_grad.py\n",
      "download: s3://tornasole-external-preview-use1/sdk/installer.sh to sdk/installer.sh\n",
      "download: s3://tornasole-external-preview-use1/rules/generic/unchanged_tensor.py to rules/generic/unchanged_tensor.py\n",
      "download: s3://tornasole-external-preview-use1/rules/generic/weight_update_ratio.py to rules/generic/weight_update_ratio.py\n",
      "download: s3://tornasole-external-preview-use1/frameworks/tensorflow/examples/simple/tensorflow-simple.ipynb to frameworks/tensorflow/examples/simple/tensorflow-simple.ipynb\n",
      "download: s3://tornasole-external-preview-use1/sdk/sagemaker-1.35.2.dev0.tar.gz to sdk/sagemaker-1.35.2.dev0.tar.gz\n",
      "download: s3://tornasole-external-preview-use1/sdk/sagemaker-tornasole-latest.tar.gz to sdk/sagemaker-tornasole-latest.tar.gz\n",
      "download: s3://tornasole-external-preview-use1/sdk/sagemaker-tornasole.json to sdk/sagemaker-tornasole.json\n",
      "Installing requirements...\n",
      "\u001b[31mtornasole 0.3 has requirement boto3==1.9.91, but you'll have boto3 1.9.211 which is incompatible.\u001b[0m\n",
      "\u001b[31mtornasole 0.3 has requirement botocore==1.12.91, but you'll have botocore 1.12.211 which is incompatible.\u001b[0m\n",
      "\u001b[31mawscli 1.16.217 has requirement botocore==1.12.207, but you'll have botocore 1.12.211 which is incompatible.\u001b[0m\n",
      "\u001b[31maiobotocore 0.10.2 has requirement botocore<1.12.92,>=1.12.91, but you'll have botocore 1.12.211 which is incompatible.\u001b[0m\n",
      "\u001b[33mYou are using pip version 10.0.1, however version 19.2.2 is available.\n",
      "You should consider upgrading via the 'pip install --upgrade pip' command.\u001b[0m\n",
      "Installation completed!\n"
     ]
    }
   ],
   "source": [
    "! aws s3 cp --recursive s3://tornasole-external-preview-use1/ .\n",
    "! chmod +x sdk/installer.sh && ./sdk/installer.sh"
   ]
  },
  {
   "cell_type": "markdown",
   "metadata": {},
   "source": [
    "Now that we've completed the setup, we're ready to spin off a SageMaker training job with debugging enabled.\n",
    "\n",
    "## Training with Script Mode\n",
    "\n",
    "We'll be training a MXNet gluon model for FashonMNIST dataset. This will be done using SageMaker MXNet Container with Script Mode."
   ]
  },
  {
   "cell_type": "code",
   "execution_count": 2,
   "metadata": {},
   "outputs": [],
   "source": [
    "import boto3\n",
    "import sagemaker\n",
    "from sagemaker.mxnet import MXNet"
   ]
  },
  {
   "cell_type": "markdown",
   "metadata": {},
   "source": [
    "### Inputs\n",
    "\n",
    "In this section, we'll look how to configure the inputs for the training job. For script mode, you'll need to upload your MXNet training script in the notebook's directory. This training script will contain the code for your Tornasole Hook initialization.\n",
    "\n",
    "After you've done that, you can proceed below.\n"
   ]
  },
  {
   "cell_type": "code",
   "execution_count": 3,
   "metadata": {},
   "outputs": [],
   "source": [
    "# Set the input values required by the estimator\n",
    "entry_point_script = '../frameworks/mxnet/scripts/mnist_mxnet.py'\n",
    "docker_image_name= '072677473360.dkr.ecr.us-west-2.amazonaws.com/tornasole-preprod-mxnet-1.4.1-cpu:latest'"
   ]
  },
  {
   "cell_type": "markdown",
   "metadata": {},
   "source": [
    "#### Parameters\n",
    "\n",
    "Now we'll call the MXNet Estimator to kick off a training job. As we mentioned earlier, we want to enable debugging for this job through Tornasole. Since you've already initialized the hook in the training script, you've enabled tensors to be stored when the script is run. The configuration of these tensors, for instance, the save interval, the regexes etc. are controlled by a json configuration called tornasole-hook-config-json which you can write in the script.\n",
    "\n",
    "For analysis, i.e. Rule Evaluation, we've introduced some new parameters in the estimator which allow you to specify what kind of rule you want to get evaluated and how. The new parameters in the Estimator to look out for are\n",
    "\n",
    "##### `debug` (bool)\n",
    "This indicates that debugging should be enabled for the training job. Setting this as `True` would make Tornasole available for use with the SageMaker training job\n",
    "\n",
    "##### `tornasole_hook_config_json` (str)\n",
    "This is a stringified form of the json configuration you need to instantiate the Tornasole hook in your training script.\n",
    "\n",
    "##### `rules_specification` (list[*dict*])\n",
    "This is a list of python dictionaries, where each `dict` is of the following form:\n",
    "```\n",
    "{\n",
    "    \"RuleName\": <str> # The name of the class implementing the Tornasole Rule interface. (required)\n",
    "    \"SourceS3Uri\": <str> # S3 URI of the rule script containing the class in 'RuleName'. If left empty, it would look for the class in one of the First Party rules already provided to you by Amazon. If not, SageMaker will try to look for the rule class in the script\n",
    "    \"InstanceType\": <str> # The ml instance type in which the rule evaluation should run\n",
    "    \"VolumeSizeInGB\": <int> # The volume size to store the runtime artifacts from the rule evaluation\n",
    "    \"RuntimeConfigurations\": {\n",
    "        # Map defining the parameters required to instantiate the Rule class and invoke the rule\n",
    "        <str>: <str>\n",
    "    }\n",
    "}\n",
    "```\n",
    "#### Storage\n",
    "The tensors, by default, will be saved to the S3 output location path of the training job, under the folder **`/tensors-<job name>`**. This is done to preserve separate paths for tensors from different training job so that the Rules can be evaluated correctly. Re-using the same path for different training jobs will result in rule to be evaluated incorrectly.\n",
    "\n",
    "If you don't provide an output path, SageMaker will create one for you as\n",
    "**`s3://sagemaker-<region>-<account_id>/`**"
   ]
  },
  {
   "cell_type": "markdown",
   "metadata": {},
   "source": [
    "### Your Rule\n",
    "\n",
    "To use rule evaluation with SageMaker training jobs, you can either opt in to bring your own rule python script or leverage one of the rules provided out-of-the-box to you by Tornasole. This notebook will focus on using your own custom rule python script and having that evaluated against the output of your SageMaker training job. Read more about how you can write your rule script in the documentation in this notebook's directory path.\n",
    "\n",
    "This notebook uses a custom rule script which attempts to identify steps with bad ratios while training. We've uploaded the file to **'s3://tornasole-test-artifacts/rules/weight_update_ratio.py'**. The script contains a class implementing the `Rule` interface called *`WeightUpdateRatio`* This class implements all the methods from the Rule interface in a fashion that will allow it to catch steps with bad weight update ratio.\n",
    "\n",
    "The constructor of this class is of the following signature:\n",
    "```\n",
    "__init__(self, base_trial, large_threshold=10, small_threshold=0.00000001, epsilon=0.000000001)\n",
    "```\n",
    "\n",
    "Keep in mind that for SageMaker to be able to evaluate your rule, the rule class will need to have a signature conforming to the spec defined by Tornasole.\n",
    "\n",
    "In order to initialize your class, you'll need to pass down values for everything except `self` and `base_trial`. This is done through putting the parameters and their values as a string-to-string map in `RuntimeConfigurations` in the `rules_specification` as alluded to earlier."
   ]
  },
  {
   "cell_type": "code",
   "execution_count": 4,
   "metadata": {},
   "outputs": [],
   "source": [
    "rules_specification=[\n",
    "    {\n",
    "        \"RuleName\": \"WeightUpdateRatio\", # Defines the class within the rule script you want to evaluate\n",
    "        \"SourceS3Uri\": \"s3://ibhatt-tornasole-test-artifacts/rules/weight_update_ratio.py\",\n",
    "        \"InstanceType\": \"ml.c5.4xlarge\", # Instance type you want to have the rule evaluation done on\n",
    "        \"VolumeSizeInGB\": 10,            # Volume of the disk attached to the instance on which evaluation is done\n",
    "        \"RuntimeConfigurations\": {\n",
    "            # For class constructor initialization\n",
    "            \"large_threshold\": \"100\",\n",
    "            \"small_threshold\": \"0.00000002\",\n",
    "            \n",
    "            # For rule invocation\n",
    "            \"start-step\": \"1\",\n",
    "            \"end-step\": \"20\",\n",
    "        }\n",
    "    }\n",
    "]"
   ]
  },
  {
   "cell_type": "markdown",
   "metadata": {},
   "source": [
    "### Estimator\n",
    "\n",
    "Now that we have all the things in place, we are ready to initialize our estimator and kick off a sagemaker training job. This job will emit tensors based on the configuration you defined in the training script and also do a rule evaluation on the side, checking for weight update ratios (Again, based on the rule script you provided.)"
   ]
  },
  {
   "cell_type": "code",
   "execution_count": 5,
   "metadata": {},
   "outputs": [],
   "source": [
    "estimator = MXNet(role=sagemaker.get_execution_role(),\n",
    "                  base_job_name='mxnet-trsl-ibhatt-test-nb',\n",
    "                  train_instance_count=1,\n",
    "                  train_instance_type='ml.m4.xlarge',\n",
    "                  image_name=docker_image_name,\n",
    "                  entry_point=entry_point_script,\n",
    "                  framework_version='1.4.1',\n",
    "                  tornasole_hook_config_json='{\"config_name\": \"ibhatt-mxnet-config\"}',\n",
    "                  py_version='py3',\n",
    "                  debug=True,\n",
    "                  rules_specification=rules_specification\n",
    "                 )"
   ]
  },
  {
   "cell_type": "markdown",
   "metadata": {},
   "source": [
    "To kick off the job, we call the `fit()` method on the MXNet estimator"
   ]
  },
  {
   "cell_type": "code",
   "execution_count": 6,
   "metadata": {},
   "outputs": [],
   "source": [
    "estimator.fit(wait=False)"
   ]
  },
  {
   "cell_type": "markdown",
   "metadata": {},
   "source": [
    "## Result\n",
    "\n",
    "As a result of the above command, SageMaker will spin off a training job for you which produces the tensors to be analyzed and, a rule evaluation job, which evaluates or analyzes the rule you asked it to in `rules_specification`\n",
    "\n",
    "### Training Job\n",
    "Doing a describe on the Training Job reveals the state of the job as a whole"
   ]
  },
  {
   "cell_type": "code",
   "execution_count": 7,
   "metadata": {},
   "outputs": [
    {
     "name": "stdout",
     "output_type": "stream",
     "text": [
      "{'TrainingJobName': 'mxnet-trsl-ibhatt-test-nb-2019-08-20-22-16-58-274', 'TrainingJobArn': 'arn:aws:sagemaker:us-west-2:072677473360:training-job/mxnet-trsl-ibhatt-test-nb-2019-08-20-22-16-58-274', 'TrainingJobStatus': 'InProgress', 'SecondaryStatus': 'Starting', 'HyperParameters': {'sagemaker_container_log_level': '20', 'sagemaker_enable_cloudwatch_metrics': 'false', 'sagemaker_job_name': '\"mxnet-trsl-ibhatt-test-nb-2019-08-20-22-16-58-274\"', 'sagemaker_program': '\"mnist_mxnet.py\"', 'sagemaker_region': '\"us-west-2\"', 'sagemaker_submit_directory': '\"s3://sagemaker-us-west-2-072677473360/mxnet-trsl-ibhatt-test-nb-2019-08-20-22-16-58-274/source/sourcedir.tar.gz\"'}, 'AlgorithmSpecification': {'TrainingImage': '072677473360.dkr.ecr.us-west-2.amazonaws.com/tornasole-preprod-mxnet-1.4.1-cpu:latest', 'TrainingInputMode': 'File'}, 'RoleArn': 'arn:aws:iam::072677473360:role/service-role/AmazonSageMaker-ExecutionRole-20190614T145575', 'InputDataConfig': [{'ChannelName': 'tornasole-config', 'DataSource': {'S3DataSource': {'S3DataType': 'S3Prefix', 'S3Uri': 's3://sagemaker-us-west-2-072677473360/tornasole-config', 'S3DataDistributionType': 'FullyReplicated'}}, 'CompressionType': 'None', 'RecordWrapperType': 'None'}], 'OutputDataConfig': {'KmsKeyId': '', 'S3OutputPath': 's3://sagemaker-us-west-2-072677473360/', 'RemoveJobNameFromS3OutputPath': False}, 'ResourceConfig': {'InstanceType': 'ml.m4.xlarge', 'InstanceCount': 1, 'VolumeSizeInGB': 30}, 'StoppingCondition': {'MaxRuntimeInSeconds': 86400}, 'CreationTime': datetime.datetime(2019, 8, 20, 22, 16, 59, 571000, tzinfo=tzlocal()), 'LastModifiedTime': datetime.datetime(2019, 8, 20, 22, 16, 59, 571000, tzinfo=tzlocal()), 'SecondaryStatusTransitions': [{'Status': 'Starting', 'StartTime': datetime.datetime(2019, 8, 20, 22, 16, 59, 571000, tzinfo=tzlocal()), 'StatusMessage': 'Starting the training job'}], 'EnableNetworkIsolation': False, 'EnableInterContainerTrafficEncryption': False, 'EnableManagedSpotTraining': False, 'DebugConfig': {'DebugHookConfig': {'LocalPath': '/opt/ml/output/tensors', 'S3OutputPath': 's3://sagemaker-us-west-2-072677473360/tensors-mxnet-trsl-ibhatt-test-nb-2019-08-20-22-16-58-274', 'DebugHookSpecificationList': []}, 'RuleConfig': {'RuleSpecificationList': [{'RuleName': 'WeightUpdateRatio', 'RuleEvaluatorImage': '453379255795.dkr.ecr.us-west-2.amazonaws.com/script-rule-executor:latest', 'SourceS3Uri': 's3://ibhatt-tornasole-test-artifacts/rules/weight_update_ratio.py', 'InstanceType': 'ml.c5.4xlarge', 'VolumeSizeInGB': 10, 'RuntimeConfigurations': {'end-step': '20', 'large_threshold': '100', 'small_threshold': '0.00000002', 'start-step': '1'}}]}}, 'RuleMonitoringStatuses': [{'RuleName': 'WeightUpdateRatio', 'RuleStatus': 'NotStarted', 'LastModifiedTime': datetime.datetime(2019, 8, 20, 22, 16, 59, 571000, tzinfo=tzlocal())}], 'ResponseMetadata': {'RequestId': '8f698c36-0b23-46c1-8564-f6abec495c18', 'HTTPStatusCode': 200, 'HTTPHeaders': {'x-amzn-requestid': '8f698c36-0b23-46c1-8564-f6abec495c18', 'content-type': 'application/x-amz-json-1.1', 'content-length': '2518', 'date': 'Tue, 20 Aug 2019 22:16:59 GMT'}, 'RetryAttempts': 0}}\n"
     ]
    }
   ],
   "source": [
    "job_details = estimator.sagemaker_session.sagemaker_client.describe_training_job(\n",
    "    TrainingJobName=estimator._current_job_name\n",
    ")\n",
    "print(job_details)"
   ]
  },
  {
   "cell_type": "markdown",
   "metadata": {},
   "source": [
    "#### Events\n",
    "Whenever there is a change of status of your training job, SageMaker will record a CloudWatch event which you can react to. See https://docs.aws.amazon.com/sagemaker/latest/dg/cloudwatch-events.html. \n",
    "\n",
    "#### Logs\n",
    "The training job logs for the training job should be visible under the `/aws/sagemaker/TrainingJobs/<your job name>` in CloudWatch console."
   ]
  },
  {
   "cell_type": "markdown",
   "metadata": {},
   "source": [
    "### Rule execution result\n",
    "To get the result of rule execution that SageMaker started for you, you can do a Describe API call on the parent training job and observe the `RuleMonitoringStatus` blob"
   ]
  },
  {
   "cell_type": "code",
   "execution_count": 8,
   "metadata": {},
   "outputs": [
    {
     "data": {
      "text/plain": [
       "[{'RuleName': 'WeightUpdateRatio',\n",
       "  'RuleStatus': 'NotStarted',\n",
       "  'LastModifiedTime': datetime.datetime(2019, 8, 20, 22, 16, 59, 571000, tzinfo=tzlocal())}]"
      ]
     },
     "execution_count": 8,
     "metadata": {},
     "output_type": "execute_result"
    }
   ],
   "source": [
    "job_details['RuleMonitoringStatuses']"
   ]
  },
  {
   "cell_type": "markdown",
   "metadata": {},
   "source": [
    "As you can see the Rule execution was a success. \n",
    "\n",
    "#### Event\n",
    "\n",
    "Just like a training job, when the status of the rule execution job changes, SageMaker will emit CloudWatch event for each rule you ran: https://docs.aws.amazon.com/sagemaker/latest/dg/cloudwatch-events.html. \n",
    "\n",
    "You can configure a CW event rule to receive and process these events by setting up a target (Lambda function, SNS).\n",
    "\n",
    "For our training job, log into the cloudwatch console and see if an event was recorded for your rule execution job.\n",
    "\n",
    "#### Logs\n",
    "To get access to the logs for your rule evaluation, go to the CloudWatch console and see the logs under `/aws/sagemaker/TrainingJobs/<job name from RuleMonitoringStatuses above in camelCase>`"
   ]
  },
  {
   "cell_type": "code",
   "execution_count": null,
   "metadata": {},
   "outputs": [],
   "source": []
  }
 ],
 "metadata": {
  "kernelspec": {
   "display_name": "conda_python3",
   "language": "python",
   "name": "conda_python3"
  },
  "language_info": {
   "codemirror_mode": {
    "name": "ipython",
    "version": 3
   },
   "file_extension": ".py",
   "mimetype": "text/x-python",
   "name": "python",
   "nbconvert_exporter": "python",
   "pygments_lexer": "ipython3",
   "version": "3.6.5"
  },
  "pycharm": {
   "stem_cell": {
    "cell_type": "raw",
    "source": [],
    "metadata": {
     "collapsed": false
    }
   }
  }
 },
 "nbformat": 4,
 "nbformat_minor": 4
}