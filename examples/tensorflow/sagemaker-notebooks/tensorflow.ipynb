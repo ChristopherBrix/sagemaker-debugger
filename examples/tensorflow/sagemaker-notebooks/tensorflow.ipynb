{
 "cells": [
  {
   "cell_type": "markdown",
   "metadata": {},
   "source": [
    "# Debugging SageMaker Training Jobs with Tornasole"
   ]
  },
  {
   "cell_type": "markdown",
   "metadata": {},
   "source": [
    "## Overview"
   ]
  },
  {
   "cell_type": "markdown",
   "metadata": {},
   "source": [
    "Tornasole is a new capability of Amazon SageMaker that allows debugging machine learning training. \n",
    "It lets you go beyond just looking at scalars like losses and accuracies during training and gives \n",
    "you full visibility into all tensors 'flowing through the graph' during training. Tornasole helps you to monitor your training in near real time using rules and would provide you alerts, once it has detected inconsistency in training flow. \n",
    "\n",
    "Using Tornasole is a two step process: Saving tensors and Analysis. Let's look at each one of them closely.\n",
    "\n",
    "### Saving tensors\n",
    "Tensors define the state of the training job at any particular instant in its lifecycle. Tornasole exposes a library which allows you to capture these tensors and save them for analysis. Tornasole is highly customizable to save the tesnsors you want at different frequencies. Refer [DeveloperGuide_TensorFlow](../../DeveloperGuide_TF.md) for details on how to save the tensors you want to save.\n",
    "\n",
    "### Analysis\n",
    "\n",
    "Analysis of the tensors emitted is captured by the Tornasole concept called ***Rules***. On a very broad level, \n",
    "a rule is a python code used to detect certain conditions during training. Some of the conditions that a data scientist training a deep learning model may care about are monitoring for gradients getting too large or too small, detecting overfitting, and so on.\n",
    "Tornasole will come pre-packaged with certain rules. Users can write their own rules using the Tornasole APIs.\n",
    "You can also analyze raw tensor data outside of the Rules construct in say, a Sagemaker notebook, using Tornasole's full set of APIs. \n",
    "Please refer [DeveloperGuide_Rules](../../../../rules/DeveloperGuide_Rules.md) for more details about analysis.\n",
    "\n",
    "This example guides you through installation of the required components for emitting tensors in a \n",
    "SageMaker training job and applying a rule over the tensors to monitor the live status of the job. \n"
   ]
  },
  {
   "cell_type": "markdown",
   "metadata": {},
   "source": [
    "## Setup\n",
    "\n",
    "As a first step, we'll do the installation of required tools which will allow emission of tensors (saving tensors) and application of rules to analyze them. This is only for the purposes of this private beta. Once we do this, we will be ready to use Tornasole."
   ]
  },
  {
   "cell_type": "code",
   "execution_count": null,
   "metadata": {},
   "outputs": [],
   "source": [
    "!aws s3 sync s3://tornasole-external-preview-use1/ ~/tornasole-preview\n",
    "!pip -q install ~/tornasole-preview/sdk/sagemaker-tornasole-latest.tar.gz\n",
    "!aws configure add-model --service-model file://`echo ~/tornasole-preview/sdk/sagemaker-tornasole.json` --service-name sagemaker"
   ]
  },
  {
   "cell_type": "markdown",
   "metadata": {},
   "source": [
    "## Run a tensorflow training job with tornasole in sagemaker\n",
    "\n",
    "We will use a simple training script, [simple.py](../scripts/simple.py). This script is designed to produce a exploding gradient problem. Tornasole is hooked in the training script. We created a hook and pass it in monitored session as below. See [simple.py](../scripts/simple.py) for detailed script."
   ]
  },
  {
   "cell_type": "markdown",
   "metadata": {},
   "source": [
    "```python\n",
    " #wrap the optimizer with Tornasole optimizer  \n",
    "optimizer = ts.TornasoleOptimizer(optimizer)  \n",
    " \n",
    " #TORNASOLE will save all the tensors. Note: TornasoleHook is highly configurable. We would talk about other options in [DeveloperGuide_TensorFlow.md](../../DeveloperGuide_TF.md)  \n",
    "hook = ts.TornasoleHook(out_dir=args.tornasole_path,\n",
    "                        save_all=True)  \n",
    " #pass the hook to hooks parameter of monitored session  \n",
    "sess = tf.train.MonitoredSession(hooks=[hook])",
    "```"
   ]
  },
  {
   "cell_type": "markdown",
   "metadata": {},
   "source": [
    "We will train simple.py in sagemaker and attach a ExplodingTensor rule to training job. Rules are essentially python code and does analysis on tensors saved by tornasole. ExplodingTensor rule is one of 1P rule provided by sagemaker.\n",
    "When training is going on tornasole will capture tensors as specified in configuration and ExplodingTensor Rule job will be looking for a exploding tensor. The rule will emit a cloudwatch event if it finds a exploding tensor problem while the training job is running."
   ]
  },
  {
   "cell_type": "markdown",
   "metadata": {},
   "source": [
    "## Training tensorflow models in SageMaker with Tornasole\n",
    "Now let us see how to run simple.py training script in SageMaker using the SageMaker Estimator api with Tornasole enabled, along with a ExplodientTensorRule to monitor the training job in realtime. First, let us import the required libraries and set the links to docker images that we will use.\n",
    "\n",
    "### Docker Images with Tornasole\n",
    "We have built SageMaker TensorFlow containers with Tornasole. You can use them from ECR from SageMaker. Here are the links to the images. \n",
    "**Please change the region below to the region you want your jobs to run.**"
   ]
  },
  {
   "cell_type": "code",
   "execution_count": 31,
   "metadata": {},
   "outputs": [],
   "source": [
    "import sagemaker\n",
    "from sagemaker.tensorflow import TensorFlow\n",
    "\n",
    "######## NOTE :::: Change the region to be one where this notebook is running ########\n",
    "REGION='us-east-2'\n",
    "\n",
    "\n",
    "TAG='latest'\n",
    "\n",
    "gpu_docker_image_name = '072677473360.dkr.ecr.{}.amazonaws.com/tornasole-preprod-tf-1.13.1-gpu:{}'.format(REGION, TAG)\n",
    "cpu_docker_image_name = '072677473360.dkr.ecr.{}.amazonaws.com/tornasole-preprod-tf-1.13.1-cpu:{}'.format(REGION, TAG)"
   ]
  },
  {
   "cell_type": "markdown",
   "metadata": {},
   "source": [
    "### Start training a simple Session based example\n",
    "For the purposes of this demonstration let us use a simple script that produces nans during training and monitor the job with the rule ExplodingTensor which checks for this condition. Let us create a bad hyperparameters dictionary which sets bad learning rate and scale parameters taken by the script."
   ]
  },
  {
   "cell_type": "code",
   "execution_count": 32,
   "metadata": {
    "pycharm": {
     "name": "#%%\n"
    }
   },
   "outputs": [],
   "source": [
    "simple_entry_point_script = '../scripts/simple.py'\n",
    "simple_hyperparameters = { 'steps': 10000, 'tornasole_frequency': 50 }\n",
    "\n",
    "# copy dict\n",
    "bad_simple_hyperparameters = dict(simple_hyperparameters)\n",
    "## These parameters are consumed by simple.py to produce a exploding tensor problem\n",
    "bad_simple_hyperparameters.update({ 'lr': 100, 'scale': 100000000000})"
   ]
  },
  {
   "cell_type": "code",
   "execution_count": 33,
   "metadata": {},
   "outputs": [],
   "source": [
    "sagemaker_simple_estimator = TensorFlow(role=sagemaker.get_execution_role(),\n",
    "                       base_job_name='tornasole-simple-demo',\n",
    "                       train_instance_count=1,\n",
    "                       train_instance_type='ml.m4.xlarge',\n",
    "                       image_name=cpu_docker_image_name,\n",
    "                       entry_point=simple_entry_point_script,\n",
    "                       framework_version='1.13.1',\n",
    "                       py_version='py3',\n",
    "                       script_mode=True,\n",
    "                       hyperparameters=bad_simple_hyperparameters,\n",
    "                       train_max_run=1800,\n",
    "                       \n",
    "                    ## THIS is tornasole specific parameter, debug= True,means rule specified in rules_specification wil\n",
    "                    ## run as rule job. We specify to run ExplodingTensor 1P rule on ml.c5.4xlarge instance\n",
    "                       debug=True,\n",
    "                       rules_specification=[\n",
    "                           {\n",
    "                              \"RuleName\": \"ExplodingTensor\",\n",
    "                              \"InstanceType\": \"ml.c5.4xlarge\",\n",
    "                              \n",
    "                           }\n",
    "                      ])"
   ]
  },
  {
   "cell_type": "code",
   "execution_count": 34,
   "metadata": {},
   "outputs": [],
   "source": [
    "# By setting wait=False, we just submit the job to run in the background\n",
    "\n",
    "sagemaker_simple_estimator.fit(wait=False)\n",
    "# NOTE: Above is fire and forget event, in background sageMaker will spin off 1 training job and 1 rule job\n",
    "# for youp. Please follow this notebook to see status of training job and rule job"
   ]
  },
  {
   "cell_type": "markdown",
   "metadata": {},
   "source": [
    "### Result\n",
    "As a result of the above command, SageMaker will spin off 1 training job and 1 rule job for you - the first one being the job which produces the tensors to be analyzed and the second one, which analyzes the tensors to check if there are any exploding tensor during training.\n",
    "\n",
    "### Check status of Training Job using describe_training_job api"
   ]
  },
  {
   "cell_type": "code",
   "execution_count": 36,
   "metadata": {},
   "outputs": [
    {
     "data": {
      "text/plain": [
       "{'TrainingJobName': 'tornasole-simple-demo-2019-08-24-04-07-54-159',\n",
       " 'TrainingJobArn': 'arn:aws:sagemaker:us-east-2:072677473360:training-job/tornasole-simple-demo-2019-08-24-04-07-54-159',\n",
       " 'TrainingJobStatus': 'InProgress',\n",
       " 'SecondaryStatus': 'Starting',\n",
       " 'HyperParameters': {'lr': '100',\n",
       "  'model_dir': '\"s3://sagemaker-us-east-2-072677473360/tornasole-simple-demo-2019-08-24-04-07-54-159/model\"',\n",
       "  'sagemaker_container_log_level': '20',\n",
       "  'sagemaker_enable_cloudwatch_metrics': 'false',\n",
       "  'sagemaker_job_name': '\"tornasole-simple-demo-2019-08-24-04-07-54-159\"',\n",
       "  'sagemaker_program': '\"simple.py\"',\n",
       "  'sagemaker_region': '\"us-east-2\"',\n",
       "  'sagemaker_submit_directory': '\"s3://sagemaker-us-east-2-072677473360/tornasole-simple-demo-2019-08-24-04-07-54-159/source/sourcedir.tar.gz\"',\n",
       "  'scale': '100000000000',\n",
       "  'steps': '10000',\n",
       "  'tornasole_frequency': '50'},\n",
       " 'AlgorithmSpecification': {'TrainingImage': '072677473360.dkr.ecr.us-east-2.amazonaws.com/tornasole-preprod-tf-1.13.1-cpu:latest',\n",
       "  'TrainingInputMode': 'File'},\n",
       " 'RoleArn': 'arn:aws:iam::072677473360:role/service-role/AmazonSageMaker-ExecutionRole-20190614T145575',\n",
       " 'InputDataConfig': [],\n",
       " 'OutputDataConfig': {'KmsKeyId': '',\n",
       "  'S3OutputPath': 's3://sagemaker-us-east-2-072677473360/',\n",
       "  'RemoveJobNameFromS3OutputPath': False},\n",
       " 'ResourceConfig': {'InstanceType': 'ml.m4.xlarge',\n",
       "  'InstanceCount': 1,\n",
       "  'VolumeSizeInGB': 30},\n",
       " 'StoppingCondition': {'MaxRuntimeInSeconds': 1800},\n",
       " 'CreationTime': datetime.datetime(2019, 8, 24, 4, 7, 54, 920000, tzinfo=tzlocal()),\n",
       " 'LastModifiedTime': datetime.datetime(2019, 8, 24, 4, 8, 21, 673000, tzinfo=tzlocal()),\n",
       " 'SecondaryStatusTransitions': [{'Status': 'Starting',\n",
       "   'StartTime': datetime.datetime(2019, 8, 24, 4, 7, 54, 920000, tzinfo=tzlocal()),\n",
       "   'StatusMessage': 'Launching requested ML instances'}],\n",
       " 'EnableNetworkIsolation': False,\n",
       " 'EnableInterContainerTrafficEncryption': False,\n",
       " 'EnableManagedSpotTraining': False,\n",
       " 'DebugConfig': {'DebugHookConfig': {'LocalPath': '/opt/ml/output/tensors',\n",
       "   'S3OutputPath': 's3://sagemaker-us-east-2-072677473360/tensors-tornasole-simple-demo-2019-08-24-04-07-54-159',\n",
       "   'DebugHookSpecificationList': []},\n",
       "  'RuleConfig': {'RuleSpecificationList': [{'RuleName': 'ExplodingTensor',\n",
       "     'RuleEvaluatorImage': '453379255795.dkr.ecr.us-east-2.amazonaws.com/script-rule-executor:latest',\n",
       "     'InstanceType': 'ml.c5.4xlarge',\n",
       "     'VolumeSizeInGB': 100}]}},\n",
       " 'RuleMonitoringStatuses': [{'RuleName': 'ExplodingTensor',\n",
       "   'RuleStatus': 'NotStarted',\n",
       "   'LastModifiedTime': datetime.datetime(2019, 8, 24, 4, 7, 54, 920000, tzinfo=tzlocal())}],\n",
       " 'ResponseMetadata': {'RequestId': '5df566ae-d116-461d-a3ef-3aeb8b81dfe1',\n",
       "  'HTTPStatusCode': 200,\n",
       "  'HTTPHeaders': {'x-amzn-requestid': '5df566ae-d116-461d-a3ef-3aeb8b81dfe1',\n",
       "   'content-type': 'application/x-amz-json-1.1',\n",
       "   'content-length': '2230',\n",
       "   'date': 'Sat, 24 Aug 2019 04:09:11 GMT'},\n",
       "  'RetryAttempts': 0}}"
      ]
     },
     "execution_count": 36,
     "metadata": {},
     "output_type": "execute_result"
    }
   ],
   "source": [
    "# Below command will give the status of training job\n",
    "# Note: In the output of below command you will see DebugConfig parameter \n",
    "\n",
    "sagemaker_simple_estimator.sagemaker_session.sagemaker_client.describe_training_job(\n",
    "                TrainingJobName=sagemaker_simple_estimator.latest_training_job.name\n",
    "            )"
   ]
  },
  {
   "cell_type": "markdown",
   "metadata": {},
   "source": [
    "**Once your training job is started(See TrainingJobStatus in above response), sagemaker will spin up rule job to run exploding tensor rule.**"
   ]
  },
  {
   "cell_type": "markdown",
   "metadata": {},
   "source": [
    "### Check the status of the Rule Execution Job\n",
    "To get the rule execution job that SageMaker started for you, run the command below and it shows you the `RuleName`, `RuleStatus`, `FailureReason` if any, and `RuleExecutionJobArn`. If the tensors meets a rule evaluation condition, the rule execution job throws a client error with `FailureReason: RuleEvaluationConditionMet`. You can check the Cloudwatch Logstream `/aws/sagemaker/TrainingJobs` with `RuleExecutionJobArn`.\n",
    "\n",
    "You will see that once the rule execution job starts, that it identifies the exploding tensor situation in the training job, raises the `RuleEvaluationConditionMet` exception and ends the job.\n",
    "\n",
    "You can go back and change the hyperparameters passed to the estimator to `simple_hyperparameters` and start a new training job. You will see that the ExplodingTensor rule is not fired in that case as no tensors go to `nan` with the default good hyperparameters."
   ]
  },
  {
   "cell_type": "code",
   "execution_count": 37,
   "metadata": {},
   "outputs": [
    {
     "name": "stdout",
     "output_type": "stream",
     "text": [
      "Wait to get status for Rule Execution Jobs...\n",
      "=============================================\n",
      "RuleName: ExplodingTensor\n",
      "RuleStatus: NotStarted\n",
      "=============================================\n",
      "Wait to get status for Rule Execution Jobs...\n",
      "=============================================\n",
      "RuleName: ExplodingTensor\n",
      "RuleStatus: NotStarted\n",
      "=============================================\n",
      "Wait to get status for Rule Execution Jobs...\n",
      "=============================================\n",
      "RuleName: ExplodingTensor\n",
      "RuleStatus: NotStarted\n",
      "=============================================\n",
      "Wait to get status for Rule Execution Jobs...\n",
      "=============================================\n",
      "RuleName: ExplodingTensor\n",
      "RuleStatus: NotStarted\n",
      "=============================================\n",
      "Wait to get status for Rule Execution Jobs...\n",
      "=============================================\n",
      "RuleName: ExplodingTensor\n",
      "RuleStatus: NotStarted\n",
      "=============================================\n",
      "Wait to get status for Rule Execution Jobs...\n",
      "=============================================\n",
      "RuleName: ExplodingTensor\n",
      "RuleStatus: NotStarted\n",
      "=============================================\n",
      "Wait to get status for Rule Execution Jobs...\n",
      "=============================================\n",
      "RuleName: ExplodingTensor\n",
      "RuleStatus: NotStarted\n",
      "=============================================\n",
      "Wait to get status for Rule Execution Jobs...\n",
      "=============================================\n",
      "RuleName: ExplodingTensor\n",
      "RuleStatus: NotStarted\n",
      "=============================================\n",
      "Wait to get status for Rule Execution Jobs...\n",
      "=============================================\n",
      "RuleName: ExplodingTensor\n",
      "RuleStatus: NotStarted\n",
      "=============================================\n",
      "Wait to get status for Rule Execution Jobs...\n",
      "=============================================\n",
      "RuleName: ExplodingTensor\n",
      "RuleStatus: NotStarted\n",
      "=============================================\n",
      "Wait to get status for Rule Execution Jobs...\n",
      "=============================================\n",
      "RuleName: ExplodingTensor\n",
      "RuleStatus: NotStarted\n",
      "=============================================\n",
      "Wait to get status for Rule Execution Jobs...\n",
      "=============================================\n",
      "RuleName: ExplodingTensor\n",
      "RuleStatus: NotStarted\n",
      "=============================================\n",
      "Wait to get status for Rule Execution Jobs...\n",
      "=============================================\n",
      "RuleName: ExplodingTensor\n",
      "RuleStatus: InProgress\n",
      "RuleExecutionJobName: ExplodingTensor-355118ff200ce0d311e8f09399029dfd\n",
      "RuleExecutionJobArn: arn:aws:sagemaker:us-east-2:072677473360:training-job/explodingtensor-355118ff200ce0d311e8f09399029dfd\n",
      "***************************************\n",
      "Created CW event Rule: arn:aws:events:us-east-2:072677473360:rule/RuleEvaluationConditionMetRule-tornasole-simple-demo-ExplodingTe\n",
      "Please monitor the rule job statuses by going to CloudWatch->Events->Rule->Monitoring\n",
      "***************************************\n",
      "=============================================\n",
      "Wait to get status for Rule Execution Jobs...\n",
      "=============================================\n",
      "RuleName: ExplodingTensor\n",
      "RuleStatus: InProgress\n",
      "RuleExecutionJobName: ExplodingTensor-355118ff200ce0d311e8f09399029dfd\n",
      "RuleExecutionJobArn: arn:aws:sagemaker:us-east-2:072677473360:training-job/explodingtensor-355118ff200ce0d311e8f09399029dfd\n",
      "=============================================\n",
      "Wait to get status for Rule Execution Jobs...\n",
      "=============================================\n",
      "RuleName: ExplodingTensor\n",
      "RuleStatus: InProgress\n",
      "RuleExecutionJobName: ExplodingTensor-355118ff200ce0d311e8f09399029dfd\n",
      "RuleExecutionJobArn: arn:aws:sagemaker:us-east-2:072677473360:training-job/explodingtensor-355118ff200ce0d311e8f09399029dfd\n",
      "=============================================\n",
      "Wait to get status for Rule Execution Jobs...\n",
      "=============================================\n",
      "RuleName: ExplodingTensor\n",
      "RuleStatus: InProgress\n",
      "RuleExecutionJobName: ExplodingTensor-355118ff200ce0d311e8f09399029dfd\n",
      "RuleExecutionJobArn: arn:aws:sagemaker:us-east-2:072677473360:training-job/explodingtensor-355118ff200ce0d311e8f09399029dfd\n",
      "=============================================\n",
      "Wait to get status for Rule Execution Jobs...\n",
      "=============================================\n",
      "RuleName: ExplodingTensor\n",
      "RuleStatus: RuleExecutionError\n",
      "FailureReason: ClientError: RuleEvaluationConditionMet: Evaluation of the rule ExplodingTensor at step 0 resulted in the condition being met\n",
      "Traceback (most recent call last):\n",
      "  File \"train.py\", line 233, in execute\n",
      "    exec(_SYMBOLIC_INVOKE_RULE.format(self.start_step, self.end_step), globals(), exec_local)\n",
      "  File \"<string>\", line 2, in <module>\n",
      "  File \"/usr/local/lib/python3.7/site-packages/tornasole/rules/rule_invoker.py\", line 84, in invoke_rule\n",
      "    raise e\n",
      "  File \"/usr/local/lib/python3.7/site-packages/tornasole/rules/rule_invoker.py\", line 79, in invoke_rule\n",
      "    rule_obj.invoke(step)\n",
      "  File \"/usr/local/lib/python3.7/site-packages/tornasole/rules/rule.py\", line 56, in invoke\n",
      "    raise RuleEvaluationConditionMet(self.rule_name, step)\n",
      "tornasole.exceptions.RuleEvaluationConditionMet: Evaluation of the rule ExplodingTensor at step 0 resulted in the condition being met\n",
      "\n",
      "\n",
      "RuleExecutionJobName: ExplodingTensor-355118ff200ce0d311e8f09399029dfd\n",
      "RuleExecutionJobArn: arn:aws:sagemaker:us-east-2:072677473360:training-job/explodingtensor-355118ff200ce0d311e8f09399029dfd\n",
      "=============================================\n"
     ]
    }
   ],
   "source": [
    "sagemaker_simple_estimator.describe_rule_execution_jobs()"
   ]
  },
  {
   "cell_type": "markdown",
   "metadata": {},
   "source": [
    "### Receive CloudWatch Event For your Jobs\n",
    "When the status of training job or rule execution job change (i.e. starting, failed), TrainingJobStatus [CloudWatch events](https://docs.aws.amazon.com/sagemaker/latest/dg/cloudwatch-events.html) are emitted. You can configure a CloudWatch event rule to receive and process these events by setting up a target (Lambda function, SNS). "
   ]
  },
  {
   "cell_type": "markdown",
   "metadata": {},
   "source": [
    "## Describing training job to get tornasole specific parameters\n",
    "#### Tornasole specific parameters in response\n",
    "**DebugConfig** parameter has details about tornasole related configuration. Key params to look for -  \n",
    "*S3OutputPath* : This is the path where output tensors from tornasole is getting saved.  \n",
    "*RuleConfig* : This parameter tells about the rule config parameter that was passed when creating the trainning job. In this you should be able to see details of the rule that ran for training.\n"
   ]
  },
  {
   "cell_type": "code",
   "execution_count": null,
   "metadata": {},
   "outputs": [],
   "source": [
    "sagemaker_simple_estimator.sagemaker_session.sagemaker_client.describe_training_job(\n",
    "                TrainingJobName=sagemaker_simple_estimator.latest_training_job.name\n",
    "            )"
   ]
  },
  {
   "cell_type": "markdown",
   "metadata": {},
   "source": [
    "## Describing Rule job to get rule execution details and results\n",
    "##### key parameters\n",
    "**RuleName**: Rule which ran for the job  \n",
    "**RuleStatus**: The status of the rule job  \n",
    "**RuleExecutionJobArn**: arn of rule job  \n",
    "\n",
    "**NOTE: You can see in response, the details about the cloudwatch event that was emitted due to rule success/failure.**  \n",
    "> Created CW event Rule: arn:aws:events:us-east-2:072677473360:rule/RuleEvaluationConditionMetRule-tornasole-simple-demo-VanishingGr  \n",
    "Please monitor the rule job statuses by going to CloudWatch->Events->Rule->Monitoring"
   ]
  },
  {
   "cell_type": "markdown",
   "metadata": {},
   "source": [
    "In above example, we saw how a ExplodientTensorRule was run which analyzed the tensors when training was running and produced an alert in form of cloudwatch event.  \n",
    "\n",
    "We have 2 more real life examples at the end section of this notebook. Before moving further, let's take some detailed look into tornasole."
   ]
  },
  {
   "cell_type": "markdown",
   "metadata": {},
   "source": [
    "## Enabling Tornasole in the training script\n",
    "\n",
    "The first step to using Tornasole is to save tensors from the training job. The containers we provide in SageMaker come with Tornasole library installed, which needs to be used to enable Tornasole in your training script. We currently support two interfaces for training in TensorFlow: `tf.Session` and `tf.Estimator`. \n",
    "\n",
    "Please note: **Keras** support is Work in Progress. Please stay tuned! We will also support **Eager** mode in the future. Tornasole also currently only works for single process training. We will support distributed training very soon. \n",
    "\n",
    "### TF Session based training\n",
    "When training using this interface you need to create a [MonitoredSession](https://www.tensorflow.org/api_docs/python/tf/train/MonitoredSession) to use for the job which is configured with TornasoleHook, a construct Tornasole exposes to save tensors from the job. Here's how you will need to modify your training script.\n",
    "\n",
    "First, you need to import `tornasole.tensorflow`. \n",
    "```\n",
    "import tornasole.tensorflow as ts \n",
    "```\n",
    "Then create the TornasoleHook by specifying what you want to save and when you want to save them.\n",
    "```\n",
    "hook = ts.TornasoleHook(include_collections=['weights','gradients'],\n",
    "                        save_config=ts.SaveConfig(save_interval=50))\n",
    "```\n",
    "Tornasole has the concept of modes (TRAIN, EVAL, PREDICT) to separate out different modes of the jobs.\n",
    "Set the mode you are running in your job. Every time the mode changes in your job, please set the current mode. This helps you group steps by mode, for easier analysis. Setting the mode is optional but recommended. If you do not specify this, Tornasole saves all steps under a `GLOBAL` mode. \n",
    "```\n",
    "hook.set_mode(ts.modes.TRAIN)\n",
    "```\n",
    "Wrap your optimizer with TornasoleOptimizer so that Tornasole can identify your gradients and automatically provide these tensors as part of the `gradients` collection. Use this new optimizer to minimize your loss during training.\n",
    "```\n",
    "optimizer = ts.TornasoleOptimizer(optimizer)\n",
    "```\n",
    "Create a monitored session with the above hook, and use this for executing your TensorFlow job.\n",
    "```\n",
    "sess = tf.train.MonitoredSession(hooks=[hook])\n",
    "```\n",
    "\n",
    "We have an example script which shows the above [scripts/simple.py](../scripts/simple.py). You will be running this script below.\n",
    "\n",
    "Refer [DeveloperGuide_TensorFlow.md](../../DeveloperGuide_TF.md) for more details on the APIs Tornasole provides to help you save tensors.\n",
    "\n",
    "### TF Estimator based training\n",
    "When training using this interface you need to pass TornasoleHook, a construct Tornasole exposes to save tensors, to the train, predict or evaluate functions of your [TensorFlow Estimator](https://www.tensorflow.org/versions/r2.0/api_docs/python/tf/estimator/Estimator?hl=en). Here's how you will need to modify your training script.\n",
    "\n",
    "First, you need to import `tornasole.tensorflow`. \n",
    "```\n",
    "import tornasole.tensorflow as ts \n",
    "```\n",
    "Then create the TornasoleHook by specifying what you want to save and when you want to save them.\n",
    "```\n",
    "hook = ts.TornasoleHook(include_collections=['weights','gradients'],\n",
    "                        save_config=ts.SaveConfig(save_interval=50))\n",
    "```\n",
    "Tornasole has the concept of modes (TRAIN, EVAL, PREDICT) to separate out different modes of the jobs.\n",
    "Set the mode you are running in your job. Every time the mode changes in your job, please set the current mode. This helps you group steps by mode, for easier analysis. Setting the mode is optional but recommended. If you do not specify this, Tornasole saves all steps under a `GLOBAL` mode. \n",
    "```\n",
    "hook.set_mode(ts.modes.TRAIN)\n",
    "```\n",
    "Wrap your optimizer with TornasoleOptimizer so that Tornasole can identify your gradients and automatically provide these tensors as part of the `gradients` collection. Use this new optimizer to minimize your loss during training.\n",
    "```\n",
    "opt = ts.TornasoleOptimizer(opt)\n",
    "```\n",
    "Now pass this hook to the estimator object's train, predict or evaluate methods, whichever ones you want to monitor.\n",
    "```\n",
    "classifier = tf.estimator.Estimator(...)\n",
    "\n",
    "classifier.train(input_fn, hooks=[hook])\n",
    "classifier.predict(input_fn, hooks=[hook])\n",
    "classifier.evaluate(input_fn, hooks=[hook])\n",
    "```\n",
    "\n",
    "Refer our example script for [MNIST](../scripts/mnist.py) or [ResNet50 for ImageNet](../scripts/train_imagenet_resnet_hvd.py) for examples of using Tornasole with the Estimator interface. We will show you to how to run these examples in SageMaker below.\n",
    "\n",
    "Refer [DeveloperGuide_TensorFlow.md](../../DeveloperGuide_TF.md) for more details on the APIs Tornasole provides to help you save tensors.\n",
    "\n",
    "## SageMaker with Tornasole\n",
    "\n",
    "We'll train a few TensorFlow models in this notebook with Tornasole enabled and monitor the training jobs with Tornasole's Rules. This will be done using SageMaker TensorFlow 1.13.1 Container in Script Mode. Note that Tornasole currently only works with python3, so be sure to set `py_version='py3'` when creating SageMaker Estimator below."
   ]
  },
  {
   "cell_type": "markdown",
   "metadata": {},
   "source": [
    "#### Storage\n",
    "The tensors saved by Tornasole are, by default, stored in the S3 output path of the training job, under the folder **`/tensors-<job name>`**. This is done to ensure that we don't end up accidentally overwriting the tensors from a training job with the others. Rules evaluation require separation of the tensors paths to be evaluated correctly.\n",
    "\n",
    "If you don't provide an S3 output path to the estimator, SageMaker creates one for you as: **`s3://sagemaker-<region>-<account_id>/`**\n",
    "\n",
    "This path is used to create a Tornasole Trial taken by Rules (see below).\n",
    "\n",
    "#### New Parameters \n",
    "The new parameters in Sagemaker Estimator to look out for are\n",
    "\n",
    "- `debug` :(bool)\n",
    "This indicates that debugging should be enabled for the training job. \n",
    "Setting this as `True` would make Tornasole available for use with the job\n",
    "\n",
    "- `rules_specification`: (list[*dict*])\n",
    "You can specify any number of rules to monitor your SageMaker training job. This parameter takes a list of python dictionaries, one for each rule you want to enable. Each `dict` is of the following form:\n",
    "```\n",
    "{\n",
    "    \"RuleName\": <str>       \n",
    "        # The name of the class implementing the Tornasole Rule interface. (required)\n",
    "\n",
    "    \"SourceS3Uri\": <str>    \n",
    "        # S3 URI of the rule script containing the class in 'RuleName'. \n",
    "        # This is not required if you want to use one of the First Party rules provided to you by Amazon. \n",
    "        # In such a case you can leave it empty or not pass it. If you want to run a custom rule \n",
    "        # defined by you, you will need to define the custom rule class in a python \n",
    "        # file and provide it to SageMaker as a S3 URI. \n",
    "        # SageMaker will fetch this file and try to look for the rule class \n",
    "        # identified by RuleName in this file.\n",
    "    \n",
    "    \"InstanceType\": <str>   \n",
    "        # The ML instance type which should be used to run the rule evaluation job\n",
    "        \n",
    "    \"VolumeSizeInGB\": <int> \n",
    "        # The volume size to store the runtime artifacts from the rule evaluation \n",
    "        \n",
    "    \"RuntimeConfigurations\": {\n",
    "        # Map defining the parameters required to instantiate the Rule class and\n",
    "        # parameters regarding invokation of the rule (start-step and end-step)\n",
    "        # This can be any parameter taken by the rule. Every value here needs to be a string. \n",
    "        # So when you write custom rules, ensure that you can parse each argument from a string.\n",
    "        # PARAMS CAN BE\n",
    "        # STANDARD PARAMS FOR RULE EXECUTION\n",
    "        # \"start-step\": <str>\n",
    "        # \"end-step\": <str>\n",
    "        # \"other-trials-paths\": <str> (';' separated list of s3 paths as a string)\n",
    "        # ANY OTHER PARAMETER TAKEN BY THE RULE\n",
    "        # \"parameter\" : <str>\n",
    "        <str>: <str>\n",
    "    }\n",
    "}\n",
    "```\n",
    "\n",
    "### Inputs\n",
    "Just a quick reminder if you are not familiar with script mode in SageMaker. You can pass command line arguments taken by your training script with a hyperparameter dictionary which gets passed to the SageMaker Estimator class. You can see this in the examples below.\n",
    "\n",
    "### Rules\n",
    "Rules are the medium by which Tornasole executes a certain piece of code regularly on different steps of the job.\n",
    "They can be used to assert certain conditions during training, and raise Cloudwatch Events based on them that you can\n",
    "use to process in any way you like. \n",
    "\n",
    "Tornasole comes with a set of **First Party rules** (1P rules).\n",
    "You can also write your own rules looking at these 1P rules for inspiration. \n",
    "Refer [DeveloperGuide_Rules.md](../../../../rules/DeveloperGuide_Rules.md) for more on the APIs you can use to write your own rules as well as descriptions for the 1P rules that we provide. \n",
    " \n",
    "Here we will talk about how to use Sagemaker to evalute these rules on the training jobs.\n",
    "\n",
    "\n",
    "##### 1P Rule \n",
    "If you want to use a 1P rule. Specify the RuleName field with the 1P RuleName, and the rule will be automatically applied. You can pass any parameters accepted by the rule as part of the RuntimeConfigurations dictionary. Rules constructor take trial as parameter.  \n",
    "A Trial in Tornasole's context refers to a training job. It is identified by the path where the saved tensors for the job are stored.  \n",
    "A rule takes a `base_trial` which refers to the job whose run invokes the rule execution. \n",
    "\n",
    "**Note:** A rule can be written to compare & analyze tensors across training jobs. A rule which needs to compare tensors across trials can be run by passing the argument `other_trials`. The argument `base_trial` will automatically be set by SageMaker when executing the rule. The parameter `other_trials` (if taken by the rule) can be passed by passing `other-trials-paths` in the RuntimeConfigurations dictionary. The value for this argument should be `;` separated list of S3 output paths where the tensors for those trials are stored.\n",
    "\n",
    "Here's a example of a complex configuration for the SimilarAcrossRuns (which accepts one other trial and a regex pattern) where we ask for the rule to be invoked for the steps between 10 and 100.\n",
    "\n",
    "``` \n",
    "rules_specification = [ \n",
    "    {\n",
    "      \"RuleName\": \"SimilarAcrossRuns\",\n",
    "      \"InstanceType\": \"ml.c5.4xlarge\",\n",
    "      \"VolumeSizeInGB\": 10,\n",
    "      \"RuntimeConfigurations\": {\n",
    "         \"other_trials\": \"s3://sagemaker-<region>-<account_id>/past-job\",\n",
    "         \"include_regex\": \".*\",\n",
    "         \"start-step\": \"10\",\n",
    "         \"end-step\": \"100\"\n",
    "       }\n",
    "    }\n",
    "]\n",
    "```\n",
    "List of 1P rules and details about the rules can be found in *First party rules* section in [DeveloperGuide_Rules.md](../../../../rules/DeveloperGuide_Rules.md)  \n",
    "\n",
    "\n",
    "##### Custom rule\n",
    "In this case you need to define a custom rule class which inherits from `tornasole.rules.Rule` class.\n",
    "You need to provide Sagemaker the S3 location of the file which defines your custom rule classes as the value for the field `SourceS3Uri`. Again, you can pass any arguments taken by this rule through the RuntimeConfigurations dictionary. Note that the custom rules can only have arguments which expect a string as the value except the two arguments specifying trials to the Rule. Refer section *Writing a rule* in [DeveloperGuide_Rules.md](../../../../rules/DeveloperGuide_Rules.md) for more details.\n",
    "\n",
    "Here's an example:\n",
    "```\n",
    "rules_specification = [\n",
    "    {\n",
    "      \"RuleName\": \"CustomRule\",\n",
    "      \"SourceS3Uri\": \"s3://weiyou-tornasole-test/rule-script/custom_rule.py\",\n",
    "      \"InstanceType\": \"ml.c5.4xlarge\",\n",
    "      \"VolumeSizeInGB\": 10,\n",
    "      \"RuntimeConfigurations\": {\n",
    "         \"threshold\" : \"0.5\"\n",
    "       }\n",
    "    }\n",
    "]\n",
    "```\n",
    "\n"
   ]
  },
  {
   "cell_type": "markdown",
   "metadata": {},
   "source": [
    "## Train Resnet50 on Imagenet with Tornasole\n",
    "Now let us run a more complicated example, let us train ResNet50 on a GPU instance. The script which uses the TensorFlow Estimator interface is available [here](../scripts/train_imagenet_resnet_hvd.py). It supports various modes of using Tornasole. Please refer to [this document](../../sm_resnet50.md) which summarizes the changes made to this script to save weights, gradients, activations of certain layers etc. You can also save large layers as reductions instead of saving the full tensor. Full details of Tornasole's APIs to save tensors are available in this document [DeveloperGuide_TensorFlow](../../DeveloperGuide_TF.md).\n",
    "\n",
    "The below hyperparameters initialize the weights of the model badly (to a small constant). This results in training proceeding badly with many gradients vanishing. We can monitor the situation using the VanishingGradient rule."
   ]
  },
  {
   "cell_type": "code",
   "execution_count": 15,
   "metadata": {},
   "outputs": [],
   "source": [
    "resnet_script = '../scripts/train_imagenet_resnet_hvd.py'\n",
    "bad_resnet_hyperparameters = {\n",
    "    'enable_tornasole': True,\n",
    "    'tornasole_save_gradients': True,\n",
    "    'tornasole_save_gradients': True,\n",
    "    'tornasole_step_interval' : 100,\n",
    "    'num_epochs': 1,\n",
    "    'constant_initializer': 0.01\n",
    "}"
   ]
  },
  {
   "cell_type": "code",
   "execution_count": 16,
   "metadata": {},
   "outputs": [],
   "source": [
    "sagemaker_resnet_estimator = TensorFlow(role=sagemaker.get_execution_role(),\n",
    "                  base_job_name='tornasole-demo-resnet',\n",
    "                  train_instance_count=1,\n",
    "                  train_instance_type='ml.p3.2xlarge',\n",
    "                  image_name=gpu_docker_image_name,\n",
    "                  entry_point=resnet_script,\n",
    "                  framework_version='1.13.1',\n",
    "                  py_version='py3',\n",
    "                  script_mode=True,\n",
    "                  hyperparameters=bad_resnet_hyperparameters,\n",
    "                  debug=True,\n",
    "                  train_max_run=1800,\n",
    "                  rules_specification=[\n",
    "                      {\n",
    "                          \"RuleName\": \"VanishingGradient\",\n",
    "                          \"InstanceType\": \"ml.c5.4xlarge\",\n",
    "                      }\n",
    "                  ])"
   ]
  },
  {
   "cell_type": "code",
   "execution_count": 18,
   "metadata": {},
   "outputs": [],
   "source": [
    "sagemaker_resnet_estimator.fit(wait=False)\n"
   ]
  },
  {
   "cell_type": "code",
   "execution_count": null,
   "metadata": {},
   "outputs": [],
   "source": [
    "## Note:wait=False above, made fit call fire and forget call. Sagemaker will run the training job and rule job in the\n",
    "## backgroud. \n",
    "## To see status of training job:\n",
    "sagemaker_simple_estimator.sagemaker_session.sagemaker_client.describe_training_job(\n",
    "                TrainingJobName=sagemaker_simple_estimator.latest_training_job.name\n",
    "            )\n"
   ]
  },
  {
   "cell_type": "code",
   "execution_count": null,
   "metadata": {},
   "outputs": [],
   "source": [
    "## To check status of rule execution job\n",
    "sagemaker_resnet_estimator.describe_rule_execution_jobs()"
   ]
  },
  {
   "cell_type": "markdown",
   "metadata": {},
   "source": [
    "## Train MNIST with Estimator interface\n",
    "If you do not want to use GPUs at this point, but want to run a slightly more complicated script than the simple example you saw above, you can train a model on CPU on the MNIST dataset as below. Let us monitor for VanishingGradient in this job. **We do not expect this rule to be fired for the below hyperparameters.**"
   ]
  },
  {
   "cell_type": "code",
   "execution_count": 2,
   "metadata": {},
   "outputs": [],
   "source": [
    "mnist_script = '../scripts/mnist.py'\n",
    "mnist_hyperparameters = {'num_epochs': 5}"
   ]
  },
  {
   "cell_type": "code",
   "execution_count": 3,
   "metadata": {},
   "outputs": [],
   "source": [
    "sagemaker_mnist_estimator = TensorFlow(role=sagemaker.get_execution_role(),\n",
    "                  base_job_name='tornasole-demo-mnist',\n",
    "                  train_instance_count=1,\n",
    "                  train_instance_type='ml.m4.xlarge',\n",
    "                  image_name=cpu_docker_image_name,\n",
    "                  entry_point=mnist_script,\n",
    "                  framework_version='1.13.1',\n",
    "                  py_version='py3',\n",
    "                  script_mode=True,\n",
    "                  hyperparameters=mnist_hyperparameters,\n",
    "                  debug=True,\n",
    "                  train_max_run=1800,\n",
    "                  rules_specification=[\n",
    "                      {\n",
    "                          \"RuleName\": \"VanishingGradient\",\n",
    "                          \"InstanceType\": \"ml.c5.4xlarge\",\n",
    "                      }\n",
    "                  ])"
   ]
  },
  {
   "cell_type": "code",
   "execution_count": 4,
   "metadata": {},
   "outputs": [],
   "source": [
    "sagemaker_mnist_estimator.fit(wait=False)"
   ]
  },
  {
   "cell_type": "markdown",
   "metadata": {},
   "source": [
    "sagemaker_mnist_estimator.describe_training_job(sagemaker_mnist_estimator.latest_training_job.name)"
   ]
  },
  {
   "cell_type": "code",
   "execution_count": null,
   "metadata": {},
   "outputs": [],
   "source": [
    "sagemaker_mnist_estimator.describe_rule_execution_jobs()"
   ]
  },
  {
   "cell_type": "code",
   "execution_count": null,
   "metadata": {},
   "outputs": [],
   "source": [
    "sagemaker_mnist_estimator.attach(sagemaker_mnist_estimator.latest_training_job.name)"
   ]
  },
  {
   "cell_type": "code",
   "execution_count": null,
   "metadata": {},
   "outputs": [],
   "source": []
  }
 ],
 "metadata": {
  "celltoolbar": "Raw Cell Format",
  "kernelspec": {
   "display_name": "conda_tensorflow_p36",
   "language": "python",
   "name": "conda_tensorflow_p36"
  },
  "language_info": {
   "codemirror_mode": {
    "name": "ipython",
    "version": 3
   },
   "file_extension": ".py",
   "mimetype": "text/x-python",
   "name": "python",
   "nbconvert_exporter": "python",
   "pygments_lexer": "ipython3",
   "version": "3.6.5"
  },
  "pycharm": {
   "stem_cell": {
    "cell_type": "raw",
    "metadata": {
     "collapsed": false
    },
    "source": []
   }
  }
 },
 "nbformat": 4,
 "nbformat_minor": 4
}
